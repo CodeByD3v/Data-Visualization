{
 "cells": [
  {
   "cell_type": "code",
   "execution_count": 3,
   "metadata": {},
   "outputs": [
    {
     "name": "stdout",
     "output_type": "stream",
     "text": [
      "   pizza_id  order_id  pizza_name_id  quantity  order_date order_day  \\\n",
      "0         1         1     hawaiian_m         1  01-01-2015  Thursday   \n",
      "1         2         2  classic_dlx_m         1  01-01-2015  Thursday   \n",
      "2         3         2  five_cheese_l         1  01-01-2015  Thursday   \n",
      "3         4         2    ital_supr_l         1  01-01-2015  Thursday   \n",
      "4         5         2     mexicana_m         1  01-01-2015  Thursday   \n",
      "\n",
      "  order_time  unit_price  total_price pizza_size pizza_category  \\\n",
      "0   11:38:36       13.25        13.25          M        Classic   \n",
      "1   11:57:40       16.00        16.00          M        Classic   \n",
      "2   11:57:40       18.50        18.50          L         Veggie   \n",
      "3   11:57:40       20.75        20.75          L        Supreme   \n",
      "4   11:57:40       16.00        16.00          M         Veggie   \n",
      "\n",
      "                                   pizza_ingredients  \\\n",
      "0           Sliced Ham, Pineapple, Mozzarella Cheese   \n",
      "1  Pepperoni, Mushrooms, Red Onions, Red Peppers,...   \n",
      "2  Mozzarella Cheese, Provolone Cheese, Smoked Go...   \n",
      "3  Calabrese Salami, Capocollo, Tomatoes, Red Oni...   \n",
      "4  Tomatoes, Red Peppers, Jalapeno Peppers, Red O...   \n",
      "\n",
      "                  pizza_name  \n",
      "0         The Hawaiian Pizza  \n",
      "1   The Classic Deluxe Pizza  \n",
      "2      The Five Cheese Pizza  \n",
      "3  The Italian Supreme Pizza  \n",
      "4         The Mexicana Pizza  \n"
     ]
    }
   ],
   "source": [
    "import pandas as pd\n",
    "df = pd.read_csv('Pizza.csv')\n",
    "# preview of the data\n",
    "print(df.head())"
   ]
  },
  {
   "cell_type": "code",
   "execution_count": 6,
   "metadata": {},
   "outputs": [
    {
     "name": "stdout",
     "output_type": "stream",
     "text": [
      "(48620, 13)\n"
     ]
    }
   ],
   "source": [
    "# How many rows and columns are in the dataset?\n",
    "print(df.shape)"
   ]
  },
  {
   "cell_type": "code",
   "execution_count": 9,
   "metadata": {},
   "outputs": [
    {
     "name": "stdout",
     "output_type": "stream",
     "text": [
      "pizza_id\n",
      "order_id\n",
      "pizza_name_id\n",
      "quantity\n",
      "order_date\n",
      "order_day\n",
      "order_time\n",
      "unit_price\n",
      "total_price\n",
      "pizza_size\n",
      "pizza_category\n",
      "pizza_ingredients\n",
      "pizza_name\n"
     ]
    }
   ],
   "source": [
    "# List all the column names.\n",
    "for cols in df.columns:\n",
    "    print(cols)"
   ]
  },
  {
   "cell_type": "code",
   "execution_count": 11,
   "metadata": {},
   "outputs": [
    {
     "name": "stdout",
     "output_type": "stream",
     "text": [
      "['M' 'L' 'S' 'XL' 'XXL']\n"
     ]
    }
   ],
   "source": [
    "# What are the unique pizza sizes or types (if present)?\n",
    "print(df['pizza_size'].unique())"
   ]
  },
  {
   "cell_type": "code",
   "execution_count": 15,
   "metadata": {},
   "outputs": [
    {
     "name": "stdout",
     "output_type": "stream",
     "text": [
      "$16.821473673385437\n"
     ]
    }
   ],
   "source": [
    "# What is the average price of a pizza?\n",
    "print(f\"${df[\"total_price\"].mean()}\")"
   ]
  },
  {
   "cell_type": "code",
   "execution_count": 22,
   "metadata": {},
   "outputs": [
    {
     "name": "stdout",
     "output_type": "stream",
     "text": [
      "       pizza_id  order_id  pizza_name_id  quantity  order_date order_day  \\\n",
      "1             2         2  classic_dlx_m         1  01-01-2015  Thursday   \n",
      "2             3         2  five_cheese_l         1  01-01-2015  Thursday   \n",
      "3             4         2    ital_supr_l         1  01-01-2015  Thursday   \n",
      "4             5         2     mexicana_m         1  01-01-2015  Thursday   \n",
      "5             6         2     thai_ckn_l         1  01-01-2015  Thursday   \n",
      "...         ...       ...            ...       ...         ...       ...   \n",
      "48612     48613     21347    ital_supr_m         1  12/31/2015  Thursday   \n",
      "48614     48615     21347   southw_ckn_l         1  12/31/2015  Thursday   \n",
      "48615     48616     21348  ckn_alfredo_m         1  12/31/2015  Thursday   \n",
      "48616     48617     21348  four_cheese_l         1  12/31/2015  Thursday   \n",
      "48618     48619     21349     mexicana_l         1  12/31/2015  Thursday   \n",
      "\n",
      "      order_time  unit_price  total_price pizza_size pizza_category  \\\n",
      "1       11:57:40       16.00        16.00          M        Classic   \n",
      "2       11:57:40       18.50        18.50          L         Veggie   \n",
      "3       11:57:40       20.75        20.75          L        Supreme   \n",
      "4       11:57:40       16.00        16.00          M         Veggie   \n",
      "5       11:57:40       20.75        20.75          L        Chicken   \n",
      "...          ...         ...          ...        ...            ...   \n",
      "48612   21:14:37       16.50        16.50          M        Supreme   \n",
      "48614   21:14:37       20.75        20.75          L        Chicken   \n",
      "48615   21:23:10       16.75        16.75          M        Chicken   \n",
      "48616   21:23:10       17.95        17.95          L         Veggie   \n",
      "48618   22:09:54       20.25        20.25          L         Veggie   \n",
      "\n",
      "                                       pizza_ingredients  \\\n",
      "1      Pepperoni, Mushrooms, Red Onions, Red Peppers,...   \n",
      "2      Mozzarella Cheese, Provolone Cheese, Smoked Go...   \n",
      "3      Calabrese Salami, Capocollo, Tomatoes, Red Oni...   \n",
      "4      Tomatoes, Red Peppers, Jalapeno Peppers, Red O...   \n",
      "5      Chicken, Pineapple, Tomatoes, Red Peppers, Tha...   \n",
      "...                                                  ...   \n",
      "48612  Calabrese Salami, Capocollo, Tomatoes, Red Oni...   \n",
      "48614  Chicken, Tomatoes, Red Peppers, Red Onions, Ja...   \n",
      "48615  Chicken, Red Onions, Red Peppers, Mushrooms, A...   \n",
      "48616  Ricotta Cheese, Gorgonzola Piccante Cheese, Mo...   \n",
      "48618  Tomatoes, Red Peppers, Jalapeno Peppers, Red O...   \n",
      "\n",
      "                        pizza_name  \n",
      "1         The Classic Deluxe Pizza  \n",
      "2            The Five Cheese Pizza  \n",
      "3        The Italian Supreme Pizza  \n",
      "4               The Mexicana Pizza  \n",
      "5           The Thai Chicken Pizza  \n",
      "...                            ...  \n",
      "48612    The Italian Supreme Pizza  \n",
      "48614  The Southwest Chicken Pizza  \n",
      "48615    The Chicken Alfredo Pizza  \n",
      "48616        The Four Cheese Pizza  \n",
      "48618           The Mexicana Pizza  \n",
      "\n",
      "[32895 rows x 13 columns]\n"
     ]
    }
   ],
   "source": [
    "# Pizzas That Cost More Than $15.00.\n",
    "print(df[df[\"total_price\"] > 15.00])"
   ]
  },
  {
   "cell_type": "code",
   "execution_count": 24,
   "metadata": {},
   "outputs": [
    {
     "name": "stdout",
     "output_type": "stream",
     "text": [
      "Number of unique pizzas -  32\n"
     ]
    }
   ],
   "source": [
    "# How many unique pizza types are in the dataset?\n",
    "print(\"Number of unique pizzas - \" , df[\"pizza_name\"].nunique())"
   ]
  },
  {
   "cell_type": "code",
   "execution_count": 30,
   "metadata": {},
   "outputs": [
    {
     "name": "stdout",
     "output_type": "stream",
     "text": [
      "0    L\n",
      "Name: pizza_size, dtype: object is the most frequently ordered pizza size\n"
     ]
    }
   ],
   "source": [
    "# Which pizza size is the most frequently ordered?\n",
    "print(df[\"pizza_size\"].mode())\n"
   ]
  }
 ],
 "metadata": {
  "kernelspec": {
   "display_name": "Python 3",
   "language": "python",
   "name": "python3"
  },
  "language_info": {
   "codemirror_mode": {
    "name": "ipython",
    "version": 3
   },
   "file_extension": ".py",
   "mimetype": "text/x-python",
   "name": "python",
   "nbconvert_exporter": "python",
   "pygments_lexer": "ipython3",
   "version": "3.12.3"
  }
 },
 "nbformat": 4,
 "nbformat_minor": 2
}
