{
 "cells": [
  {
   "cell_type": "code",
   "execution_count": 1,
   "metadata": {},
   "outputs": [],
   "source": [
    "import numpy as np"
   ]
  },
  {
   "cell_type": "code",
   "execution_count": 3,
   "metadata": {},
   "outputs": [
    {
     "data": {
      "text/plain": [
       "array([100, 200, 300, 400, 500])"
      ]
     },
     "execution_count": 3,
     "metadata": {},
     "output_type": "execute_result"
    }
   ],
   "source": [
    "# creating arrays\n",
    "sales = [100, 200, 300, 400, 500]\n",
    "\n",
    "# converting to numpy array\n",
    "sales_array = np.array(sales)\n",
    "\n",
    "sales_array"
   ]
  },
  {
   "cell_type": "code",
   "execution_count": 8,
   "metadata": {},
   "outputs": [
    {
     "name": "stdout",
     "output_type": "stream",
     "text": [
      "ndim : 1\n",
      "shape : (5,)\n",
      "size : 5\n",
      "dtype : int64\n"
     ]
    }
   ],
   "source": [
    "print(f\"ndim : {sales_array.ndim}\")\n",
    "print(f\"shape : {sales_array.shape}\")\n",
    "print(f\"size : {sales_array.size}\")\n",
    "print(f\"dtype : {sales_array.dtype}\")"
   ]
  },
  {
   "cell_type": "code",
   "execution_count": 10,
   "metadata": {},
   "outputs": [],
   "source": [
    "two_dim_list = [\n",
    "    [1, 2, 3],\n",
    "    [4, 5, 6]\n",
    "]\n",
    "\n",
    "two_dim_array = np.array(two_dim_list)"
   ]
  },
  {
   "cell_type": "code",
   "execution_count": 13,
   "metadata": {},
   "outputs": [
    {
     "name": "stdout",
     "output_type": "stream",
     "text": [
      "ndim : 2\n",
      "shape : (2, 3)\n",
      "size : 6\n",
      "dtype : int64\n"
     ]
    }
   ],
   "source": [
    "print(f\"ndim : {two_dim_array.ndim}\")\n",
    "print(f\"shape : {two_dim_array.shape}\")\n",
    "print(f\"size : {two_dim_array.size}\")\n",
    "print(f\"dtype : {two_dim_array.dtype}\")"
   ]
  }
 ],
 "metadata": {
  "kernelspec": {
   "display_name": "Python 3",
   "language": "python",
   "name": "python3"
  },
  "language_info": {
   "codemirror_mode": {
    "name": "ipython",
    "version": 3
   },
   "file_extension": ".py",
   "mimetype": "text/x-python",
   "name": "python",
   "nbconvert_exporter": "python",
   "pygments_lexer": "ipython3",
   "version": "3.12.3"
  }
 },
 "nbformat": 4,
 "nbformat_minor": 2
}
