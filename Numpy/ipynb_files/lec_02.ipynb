{
 "cells": [
  {
   "cell_type": "markdown",
   "metadata": {},
   "source": [
    "## CREATING ARRAYS"
   ]
  },
  {
   "cell_type": "code",
   "execution_count": 1,
   "metadata": {},
   "outputs": [],
   "source": [
    "import numpy as np"
   ]
  },
  {
   "cell_type": "code",
   "execution_count": 2,
   "metadata": {},
   "outputs": [
    {
     "data": {
      "text/plain": [
       "array([1, 1, 1, 1, 1])"
      ]
     },
     "execution_count": 2,
     "metadata": {},
     "output_type": "execute_result"
    }
   ],
   "source": [
    "# ones \n",
    "np.ones(5 , dtype=int)"
   ]
  },
  {
   "cell_type": "code",
   "execution_count": 3,
   "metadata": {},
   "outputs": [
    {
     "data": {
      "text/plain": [
       "array([0, 0, 0, 0, 0])"
      ]
     },
     "execution_count": 3,
     "metadata": {},
     "output_type": "execute_result"
    }
   ],
   "source": [
    "# zeros\n",
    "np.zeros(5 , dtype=int)"
   ]
  },
  {
   "cell_type": "code",
   "execution_count": 4,
   "metadata": {},
   "outputs": [
    {
     "data": {
      "text/plain": [
       "array([[0, 0, 0, 0, 0],\n",
       "       [0, 0, 0, 0, 0]])"
      ]
     },
     "execution_count": 4,
     "metadata": {},
     "output_type": "execute_result"
    }
   ],
   "source": [
    "# reshpae\n",
    "np.zeros((5,2) , dtype=int).reshape(2 , 5)"
   ]
  },
  {
   "cell_type": "markdown",
   "metadata": {},
   "source": [
    "### numpy.arange([start,] stop, [step,] dtype=None) "
   ]
  },
  {
   "cell_type": "code",
   "execution_count": 7,
   "metadata": {},
   "outputs": [
    {
     "data": {
      "text/plain": [
       "array([10, 20, 30, 40, 50, 60, 70, 80, 90])"
      ]
     },
     "execution_count": 7,
     "metadata": {},
     "output_type": "execute_result"
    }
   ],
   "source": [
    "np.arange(10 , 100 , 10 , dtype = int )"
   ]
  },
  {
   "cell_type": "markdown",
   "metadata": {},
   "source": [
    "numpy.linspace(start, stop, num=50, endpoint=True, retstep=False, dtype=None, axis=0)\n",
    "| Parameter  | Description                                          |\n",
    "| ---------- | ---------------------------------------------------- |\n",
    "| `start`    | Start of the interval                                |\n",
    "| `stop`     | End of the interval                                  |\n",
    "| `num`      | Number of points to generate (default = 50)          |\n",
    "| `endpoint` | If True, include `stop` in the output                |\n",
    "| `retstep`  | If True, return (`array`, `step`)                    |\n",
    "| `dtype`    | Output data type                                     |\n",
    "| `axis`     | The axis in the result along which values are stored |\n",
    "\n",
    "| Parameter        | Formula for Step                             |\n",
    "| ---------------- | -------------------------------------------- |\n",
    "| `endpoint=True`  | $\\frac{\\text{stop} - \\text{start}}{num - 1}$ |\n",
    "| `endpoint=False` | $\\frac{\\text{stop} - \\text{start}}{num}$     |\n"
   ]
  },
  {
   "cell_type": "markdown",
   "metadata": {},
   "source": [
    "step = stop - start / (num - 1)  , ## if endpoint is true"
   ]
  },
  {
   "cell_type": "markdown",
   "metadata": {},
   "source": [
    "step = stop - start / num ## if endpoint is false"
   ]
  },
  {
   "cell_type": "code",
   "execution_count": 8,
   "metadata": {},
   "outputs": [
    {
     "data": {
      "text/plain": [
       "array([ 10,  20,  30,  40,  50,  60,  70,  80,  90, 100])"
      ]
     },
     "execution_count": 8,
     "metadata": {},
     "output_type": "execute_result"
    }
   ],
   "source": [
    "np.linspace(10 , 100 , 10 , dtype = int)"
   ]
  },
  {
   "cell_type": "markdown",
   "metadata": {},
   "source": [
    "### Random Number generation"
   ]
  },
  {
   "cell_type": "code",
   "execution_count": 10,
   "metadata": {},
   "outputs": [
    {
     "data": {
      "text/plain": [
       "array([0.39682145, 0.86568572, 0.46040359, 0.30599848, 0.57381588,\n",
       "       0.08888468, 0.88194347, 0.73228387, 0.73215182, 0.56233394])"
      ]
     },
     "execution_count": 10,
     "metadata": {},
     "output_type": "execute_result"
    }
   ],
   "source": [
    "rng = np.random.default_rng(616)\n",
    "\n",
    "rng.random(10)"
   ]
  },
  {
   "cell_type": "code",
   "execution_count": 17,
   "metadata": {},
   "outputs": [
    {
     "data": {
      "text/plain": [
       "array([8, 4, 8, 9, 7, 7, 9, 0, 7, 2, 0, 6, 0, 2, 1, 9, 7, 0, 0, 8, 9, 4,\n",
       "       9, 2, 0, 4, 4, 6, 9, 5, 7, 5, 9, 4, 8, 6, 0, 9, 9, 8, 9, 9, 6, 9,\n",
       "       3, 6, 4, 4, 5, 3, 8, 1, 1, 8, 1, 9, 8, 1, 5, 6, 0, 6, 3, 7, 2, 8,\n",
       "       3, 0, 5, 5, 4, 7, 3, 3, 2, 7, 4, 7, 0, 6, 0, 2, 6, 2, 1, 5, 9, 1,\n",
       "       7, 6, 9, 3, 2, 7, 5, 6, 3, 0, 0, 6])"
      ]
     },
     "execution_count": 17,
     "metadata": {},
     "output_type": "execute_result"
    }
   ],
   "source": [
    "rng.integers(0 , 10 , 100)"
   ]
  },
  {
   "cell_type": "code",
   "execution_count": 19,
   "metadata": {},
   "outputs": [
    {
     "data": {
      "text/plain": [
       "np.int64(2)"
      ]
     },
     "execution_count": 19,
     "metadata": {},
     "output_type": "execute_result"
    }
   ],
   "source": [
    "rng.integers(5)"
   ]
  },
  {
   "cell_type": "markdown",
   "metadata": {},
   "source": [
    "rng.normal(loc=0.0, scale=1.0, size=None)\n",
    "| Parameter | Description                                     |\n",
    "| --------- | ----------------------------------------------- |\n",
    "| `loc`     | Mean (center of the distribution)               |\n",
    "| `scale`   | Standard deviation (spread of the distribution) |\n",
    "| `size`    | Shape/number of random values to generate       |\n"
   ]
  },
  {
   "cell_type": "code",
   "execution_count": 20,
   "metadata": {},
   "outputs": [
    {
     "data": {
      "text/plain": [
       "array([52.75076308, 54.97167104, 59.95036699, 51.75676495, 52.4340682 ,\n",
       "       56.19249833, 49.82502727, 45.8219855 , 45.99913101, 43.15965948])"
      ]
     },
     "execution_count": 20,
     "metadata": {},
     "output_type": "execute_result"
    }
   ],
   "source": [
    "rng.normal(50 , 5 , 10)"
   ]
  }
 ],
 "metadata": {
  "kernelspec": {
   "display_name": "Python 3",
   "language": "python",
   "name": "python3"
  },
  "language_info": {
   "codemirror_mode": {
    "name": "ipython",
    "version": 3
   },
   "file_extension": ".py",
   "mimetype": "text/x-python",
   "name": "python",
   "nbconvert_exporter": "python",
   "pygments_lexer": "ipython3",
   "version": "3.12.3"
  }
 },
 "nbformat": 4,
 "nbformat_minor": 2
}
