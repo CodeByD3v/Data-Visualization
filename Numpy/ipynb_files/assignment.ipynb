{
 "cells": [
  {
   "cell_type": "markdown",
   "metadata": {},
   "source": [
    "# IMPORTING PACKAGES"
   ]
  },
  {
   "cell_type": "code",
   "execution_count": 1,
   "metadata": {},
   "outputs": [],
   "source": [
    "import numpy as np"
   ]
  },
  {
   "cell_type": "markdown",
   "metadata": {},
   "source": [
    "# ASSIGNMENT 1 - ARRAY BASICS\n",
    "\n",
    "Can you import Numpy and convert the following list comprehension (I  jjust learned about compreshensions in an awesome course by Maven) in an array? \n",
    "Once you've done that  , report the dimenesions ,  shape  ,size and dtype."
   ]
  },
  {
   "cell_type": "code",
   "execution_count": 3,
   "metadata": {},
   "outputs": [],
   "source": [
    "array = np.array([x * 10 for x in range(1,11)])"
   ]
  },
  {
   "cell_type": "code",
   "execution_count": 4,
   "metadata": {},
   "outputs": [
    {
     "name": "stdout",
     "output_type": "stream",
     "text": [
      "The dimenssion of array : 1\n",
      "shape of the array : (10,)\n",
      "size of the array : 10\n",
      "data type of the array :  int64\n"
     ]
    }
   ],
   "source": [
    "# ndim  , shape , size  and dtype\n",
    "\n",
    "print(f\"The dimenssion of array : {array.ndim}\")\n",
    "print(f\"shape of the array : {array.shape}\")\n",
    "print(f\"size of the array : {array.size}\")\n",
    "print(f\"data type of the array :  {array.dtype}\")"
   ]
  },
  {
   "cell_type": "markdown",
   "metadata": {},
   "source": [
    "# ASSIGNEMENT 2 \n",
    "\n",
    "Does Numpy have anything like the range() function from base python? \n",
    "\n",
    "If so , create the same array from assignement 2 using a Numpy function. But make it 5 rows and 2 columns. it's ok if the datatype is float or int"
   ]
  },
  {
   "cell_type": "code",
   "execution_count": 7,
   "metadata": {},
   "outputs": [
    {
     "name": "stdout",
     "output_type": "stream",
     "text": [
      "[[ 10  20]\n",
      " [ 30  40]\n",
      " [ 50  60]\n",
      " [ 70  80]\n",
      " [ 90 100]]\n"
     ]
    }
   ],
   "source": [
    "array = np.linspace(10 , 100 , 10 , dtype = int).reshape(5 , 2)\n",
    "print(array)"
   ]
  },
  {
   "cell_type": "code",
   "execution_count": 11,
   "metadata": {},
   "outputs": [
    {
     "name": "stdout",
     "output_type": "stream",
     "text": [
      "[[ 10  20]\n",
      " [ 30  40]\n",
      " [ 50  60]\n",
      " [ 70  80]\n",
      " [ 90 100]]\n"
     ]
    }
   ],
   "source": [
    "array = np.arange(10 , 110, 10 , dtype = int).reshape(5 , 2)\n",
    "print(array)"
   ]
  },
  {
   "cell_type": "code",
   "execution_count": 17,
   "metadata": {},
   "outputs": [
    {
     "data": {
      "text/plain": [
       "array([[ 10,  20],\n",
       "       [ 30,  40],\n",
       "       [ 50,  60],\n",
       "       [ 70,  80],\n",
       "       [ 90, 100]])"
      ]
     },
     "execution_count": 17,
     "metadata": {},
     "output_type": "execute_result"
    }
   ],
   "source": [
    "array  = (np.arange(1,11)*10).reshape(5,2)\n",
    "array"
   ]
  },
  {
   "cell_type": "markdown",
   "metadata": {},
   "source": [
    "### CAN YOU CREATE A 3X3 ARRAY OF RANDOM NUMBERS BETWEEN 0  TO  1 USE A RANDOM STATE OF 2022 "
   ]
  },
  {
   "cell_type": "code",
   "execution_count": 3,
   "metadata": {},
   "outputs": [
    {
     "name": "stdout",
     "output_type": "stream",
     "text": [
      "[[0.24742606 0.09299006 0.61176337]\n",
      " [0.06066207 0.66103343 0.75515778]\n",
      " [0.1108689  0.04305584 0.41441747]]\n"
     ]
    }
   ],
   "source": [
    "rng = np.random.default_rng(2022)\n",
    "array = rng.random((3,3))\n",
    "print(array)"
   ]
  },
  {
   "cell_type": "markdown",
   "metadata": {},
   "source": [
    "# Assignment 3 \n",
    "Slice and index the 'random_array' we created in the previous exercise . Perform the following exercises : \n",
    "\n",
    " - Grab the first two 'rows' of the array \n",
    " - Grab the entire first column\n",
    " - Then grab the second element of the third row\n",
    " "
   ]
  },
  {
   "cell_type": "code",
   "execution_count": 8,
   "metadata": {},
   "outputs": [
    {
     "name": "stdout",
     "output_type": "stream",
     "text": [
      "[[0.24742606 0.09299006 0.61176337]\n",
      " [0.06066207 0.66103343 0.75515778]]\n"
     ]
    }
   ],
   "source": [
    "print(array[:2])"
   ]
  },
  {
   "cell_type": "code",
   "execution_count": 9,
   "metadata": {},
   "outputs": [
    {
     "name": "stdout",
     "output_type": "stream",
     "text": [
      "[0.24742606 0.06066207 0.1108689 ]\n"
     ]
    }
   ],
   "source": [
    "print(array[ : , 0 ])"
   ]
  },
  {
   "cell_type": "code",
   "execution_count": 11,
   "metadata": {},
   "outputs": [
    {
     "name": "stdout",
     "output_type": "stream",
     "text": [
      "0.04305584439252108\n"
     ]
    }
   ],
   "source": [
    "print(array[2 , 1 ])"
   ]
  },
  {
   "cell_type": "markdown",
   "metadata": {},
   "source": [
    "# Assignment 4 \n",
    "\n",
    "The creativity of our marketing team knows no bounds!\n",
    "\n",
    "They've asked us to come up with a simple algorithm to provide a random discount to our list of prices  below.\n",
    "\n",
    "Before we do that  , we want to add a 5 dollar shipping fee that will be calculated before the disocount is applied. Call this array total.\n",
    "\n",
    "- Once we have that ,  we want to use the random_array /array ,  reshape it to one dimension , Call this discount_pct.\n",
    "- Substract discount_pct FROM 1 , store this in pct_owed.\n",
    "- Multiply pct_owed by total to get the final amount owed."
   ]
  },
  {
   "cell_type": "code",
   "execution_count": 13,
   "metadata": {},
   "outputs": [
    {
     "data": {
      "text/plain": [
       "array([ 10.99,  11.99,  27.49, 104.99,   9.99,  54.99])"
      ]
     },
     "execution_count": 13,
     "metadata": {},
     "output_type": "execute_result"
    }
   ],
   "source": [
    "prices = np.array([5.99 , 6.99 , 22.49 , 99.99 , 4.99 , 49.99])\n",
    "\n",
    "total = prices + 5\n",
    "\n",
    "total"
   ]
  },
  {
   "cell_type": "code",
   "execution_count": 19,
   "metadata": {},
   "outputs": [
    {
     "data": {
      "text/plain": [
       "array([ 8.27, 10.88, 10.67, 98.62,  3.39, 13.46])"
      ]
     },
     "execution_count": 19,
     "metadata": {},
     "output_type": "execute_result"
    }
   ],
   "source": [
    "discount_pct = array[:2 , :].reshape(6)\n",
    "\n",
    "pct_owed = 1 - discount_pct\n",
    "\n",
    "final_owed = pct_owed * total\n",
    "\n",
    "final_owed.round(2)"
   ]
  },
  {
   "cell_type": "code",
   "execution_count": 22,
   "metadata": {},
   "outputs": [
    {
     "data": {
      "text/plain": [
       "array([ 8.27, 10.88, 10.67, 98.62,  3.39, 13.46])"
      ]
     },
     "execution_count": 22,
     "metadata": {},
     "output_type": "execute_result"
    }
   ],
   "source": [
    "((1-(array[:2 , :].reshape(6))) * total).round(2)"
   ]
  },
  {
   "cell_type": "code",
   "execution_count": 25,
   "metadata": {},
   "outputs": [
    {
     "name": "stdout",
     "output_type": "stream",
     "text": [
      "[0.24742606 0.09299006 0.61176337 0.06066207 0.66103343 0.75515778]\n",
      "[0.75257394 0.90700994 0.38823663 0.93933793 0.33896657 0.24484222]\n",
      "[ 8.27078756 10.87504916 10.67262487 98.6210889   3.38627605 13.4638738 ]\n"
     ]
    }
   ],
   "source": [
    "print(discount_pct)\n",
    "print(pct_owed)\n",
    "print(final_owed)"
   ]
  },
  {
   "cell_type": "markdown",
   "metadata": {},
   "source": [
    "# Assignment 5\n",
    "Filter the product to only include those with prices greater than 25.\n",
    "\n",
    "Modify your logic to include cola, despite it not having a price greater than 25. Store the elements returned in an array called ``` fancy_feast_special ```\n",
    "\n",
    "Next , create a shipping cost array where the cost is 0 if price is greater than 20 , and 5 if not.\n"
   ]
  },
  {
   "cell_type": "code",
   "execution_count": 4,
   "metadata": {},
   "outputs": [
    {
     "data": {
      "text/plain": [
       "array(['salad', 'bread', 'mustard', 'rare tomato', 'cola',\n",
       "       'gourmet ice cream'], dtype='<U17')"
      ]
     },
     "execution_count": 4,
     "metadata": {},
     "output_type": "execute_result"
    }
   ],
   "source": [
    "products = np.array([\"salad\" , \"bread\" , \"mustard\" , \"rare tomato\" , \"cola\" , \"gourmet ice cream\"])\n",
    "prices = np.array([5.99 , 6.99 , 22.49 , 99.99 , 4.99 , 49.99])\n",
    "\n",
    "products"
   ]
  },
  {
   "cell_type": "code",
   "execution_count": 17,
   "metadata": {},
   "outputs": [
    {
     "data": {
      "text/plain": [
       "array(['rare tomato', 'gourmet ice cream'], dtype='<U17')"
      ]
     },
     "execution_count": 17,
     "metadata": {},
     "output_type": "execute_result"
    }
   ],
   "source": [
    "# filtering the products that price is greater than 25. \n",
    "\n",
    "products[prices > 25.00]"
   ]
  },
  {
   "cell_type": "code",
   "execution_count": 18,
   "metadata": {},
   "outputs": [
    {
     "data": {
      "text/plain": [
       "array(['rare tomato', 'cola', 'gourmet ice cream'], dtype='<U17')"
      ]
     },
     "execution_count": 18,
     "metadata": {},
     "output_type": "execute_result"
    }
   ],
   "source": [
    "# adding cola \n",
    "\n",
    "mask = (prices > 25.00) | (products == 'cola')\n",
    "\n",
    "fancy_feast_special = products[mask]\n",
    "\n",
    "fancy_feast_special"
   ]
  },
  {
   "cell_type": "code",
   "execution_count": 21,
   "metadata": {},
   "outputs": [
    {
     "data": {
      "text/plain": [
       "array([5, 5, 0, 0, 5, 0])"
      ]
     },
     "execution_count": 21,
     "metadata": {},
     "output_type": "execute_result"
    }
   ],
   "source": [
    "# shipping cost array\n",
    "\n",
    "shipping_cost = np.where(prices > 20 , 0 , 5)\n",
    "\n",
    "shipping_cost"
   ]
  },
  {
   "cell_type": "markdown",
   "metadata": {},
   "source": [
    "# Assignment 6\n",
    "\n",
    "First grab the top 3 highest priced items in our list.\n",
    "\n",
    "Then , calculate the mean , min , max and median of the top three prices.\n",
    "\n",
    "Finally calculate the numbe of unique price tiers in our ```price_tiers``` array."
   ]
  },
  {
   "cell_type": "code",
   "execution_count": 2,
   "metadata": {},
   "outputs": [],
   "source": [
    "prices = np.array([5.99 , 6.99 , 22.49 , 99.99 , 4.99 , 49.99])\n",
    "\n",
    "prices.sort()"
   ]
  },
  {
   "cell_type": "code",
   "execution_count": 3,
   "metadata": {},
   "outputs": [
    {
     "data": {
      "text/plain": [
       "array([ 4.99,  5.99,  6.99, 22.49, 49.99, 99.99])"
      ]
     },
     "execution_count": 3,
     "metadata": {},
     "output_type": "execute_result"
    }
   ],
   "source": [
    "prices"
   ]
  },
  {
   "cell_type": "code",
   "execution_count": 6,
   "metadata": {},
   "outputs": [
    {
     "data": {
      "text/plain": [
       "array([22.49, 49.99, 99.99])"
      ]
     },
     "execution_count": 6,
     "metadata": {},
     "output_type": "execute_result"
    }
   ],
   "source": [
    "top3 = prices[-3:]\n",
    "\n",
    "top3"
   ]
  },
  {
   "cell_type": "code",
   "execution_count": 9,
   "metadata": {},
   "outputs": [
    {
     "name": "stdout",
     "output_type": "stream",
     "text": [
      "Mean : 57.49\n",
      "Min : 22.49\n",
      "Max : 99.99\n",
      "Median : 49.99\n"
     ]
    }
   ],
   "source": [
    "print(f\"Mean : {top3.mean()}\")\n",
    "print(f\"Min : {top3.min()}\")\n",
    "print(f\"Max : {top3.max()}\")\n",
    "print(f\"Median : {np.median(top3)}\")"
   ]
  },
  {
   "cell_type": "code",
   "execution_count": 10,
   "metadata": {},
   "outputs": [],
   "source": [
    "price_tiers = np.array(['budget' , 'budget' , 'mid-tier' , 'luxury','mid-tier' ,'luxury'])"
   ]
  },
  {
   "cell_type": "code",
   "execution_count": 11,
   "metadata": {},
   "outputs": [
    {
     "data": {
      "text/plain": [
       "array(['budget', 'luxury', 'mid-tier'], dtype='<U8')"
      ]
     },
     "execution_count": 11,
     "metadata": {},
     "output_type": "execute_result"
    }
   ],
   "source": [
    "np.unique(price_tiers)"
   ]
  },
  {
   "cell_type": "markdown",
   "metadata": {},
   "source": [
    "# Assignment 7 : Bring it all together\n",
    "\n",
    "Our data scientist provided the code to read in a csv as a Pandas dataframe , and has converted the two columns of interest to arrays \n",
    "\n",
    "We want to filter our sales series down to only sales where the product family was produce. \n",
    "\n",
    "Once you've done that , randomly sample roughly half (random number < .5) of the produce sales and report the mean and median sales. Use a random seed of 2022.\n",
    "\n",
    "Finally create a new array that has the values 'abover_both' , 'above_median' and 'below_both'.based on whether the sales were above the median of the sample or below both the mean of the sample."
   ]
  },
  {
   "cell_type": "code",
   "execution_count": 1,
   "metadata": {},
   "outputs": [],
   "source": [
    "import pandas as pd\n",
    "import numpy as np"
   ]
  },
  {
   "cell_type": "code",
   "execution_count": 13,
   "metadata": {},
   "outputs": [
    {
     "data": {
      "text/html": [
       "<div>\n",
       "<style scoped>\n",
       "    .dataframe tbody tr th:only-of-type {\n",
       "        vertical-align: middle;\n",
       "    }\n",
       "\n",
       "    .dataframe tbody tr th {\n",
       "        vertical-align: top;\n",
       "    }\n",
       "\n",
       "    .dataframe thead th {\n",
       "        text-align: right;\n",
       "    }\n",
       "</style>\n",
       "<table border=\"1\" class=\"dataframe\">\n",
       "  <thead>\n",
       "    <tr style=\"text-align: right;\">\n",
       "      <th></th>\n",
       "      <th>id</th>\n",
       "      <th>date</th>\n",
       "      <th>store_nbr</th>\n",
       "      <th>family</th>\n",
       "      <th>sales</th>\n",
       "      <th>onpromotion</th>\n",
       "    </tr>\n",
       "  </thead>\n",
       "  <tbody>\n",
       "    <tr>\n",
       "      <th>0</th>\n",
       "      <td>1956943</td>\n",
       "      <td>2016-01-07</td>\n",
       "      <td>18</td>\n",
       "      <td>EGGS</td>\n",
       "      <td>177.00</td>\n",
       "      <td>0</td>\n",
       "    </tr>\n",
       "    <tr>\n",
       "      <th>1</th>\n",
       "      <td>1956944</td>\n",
       "      <td>2016-01-07</td>\n",
       "      <td>18</td>\n",
       "      <td>FROZEN FOODS</td>\n",
       "      <td>36.00</td>\n",
       "      <td>0</td>\n",
       "    </tr>\n",
       "    <tr>\n",
       "      <th>2</th>\n",
       "      <td>1956945</td>\n",
       "      <td>2016-01-07</td>\n",
       "      <td>18</td>\n",
       "      <td>GROCERY I</td>\n",
       "      <td>2291.06</td>\n",
       "      <td>6</td>\n",
       "    </tr>\n",
       "    <tr>\n",
       "      <th>3</th>\n",
       "      <td>1956946</td>\n",
       "      <td>2016-01-07</td>\n",
       "      <td>18</td>\n",
       "      <td>GROCERY II</td>\n",
       "      <td>16.00</td>\n",
       "      <td>0</td>\n",
       "    </tr>\n",
       "    <tr>\n",
       "      <th>4</th>\n",
       "      <td>1956947</td>\n",
       "      <td>2016-01-07</td>\n",
       "      <td>18</td>\n",
       "      <td>HARDWARE</td>\n",
       "      <td>2.00</td>\n",
       "      <td>0</td>\n",
       "    </tr>\n",
       "    <tr>\n",
       "      <th>...</th>\n",
       "      <td>...</td>\n",
       "      <td>...</td>\n",
       "      <td>...</td>\n",
       "      <td>...</td>\n",
       "      <td>...</td>\n",
       "      <td>...</td>\n",
       "    </tr>\n",
       "    <tr>\n",
       "      <th>995</th>\n",
       "      <td>1957938</td>\n",
       "      <td>2016-01-07</td>\n",
       "      <td>45</td>\n",
       "      <td>HOME AND KITCHEN I</td>\n",
       "      <td>83.00</td>\n",
       "      <td>0</td>\n",
       "    </tr>\n",
       "    <tr>\n",
       "      <th>996</th>\n",
       "      <td>1957939</td>\n",
       "      <td>2016-01-07</td>\n",
       "      <td>45</td>\n",
       "      <td>HOME AND KITCHEN II</td>\n",
       "      <td>97.00</td>\n",
       "      <td>1</td>\n",
       "    </tr>\n",
       "    <tr>\n",
       "      <th>997</th>\n",
       "      <td>1957940</td>\n",
       "      <td>2016-01-07</td>\n",
       "      <td>45</td>\n",
       "      <td>HOME APPLIANCES</td>\n",
       "      <td>1.00</td>\n",
       "      <td>0</td>\n",
       "    </tr>\n",
       "    <tr>\n",
       "      <th>998</th>\n",
       "      <td>1957941</td>\n",
       "      <td>2016-01-07</td>\n",
       "      <td>45</td>\n",
       "      <td>HOME CARE</td>\n",
       "      <td>510.00</td>\n",
       "      <td>1</td>\n",
       "    </tr>\n",
       "    <tr>\n",
       "      <th>999</th>\n",
       "      <td>1957942</td>\n",
       "      <td>2016-01-07</td>\n",
       "      <td>45</td>\n",
       "      <td>LADIESWEAR</td>\n",
       "      <td>4.00</td>\n",
       "      <td>0</td>\n",
       "    </tr>\n",
       "  </tbody>\n",
       "</table>\n",
       "<p>1000 rows × 6 columns</p>\n",
       "</div>"
      ],
      "text/plain": [
       "          id        date  store_nbr               family    sales  onpromotion\n",
       "0    1956943  2016-01-07         18                 EGGS   177.00            0\n",
       "1    1956944  2016-01-07         18         FROZEN FOODS    36.00            0\n",
       "2    1956945  2016-01-07         18            GROCERY I  2291.06            6\n",
       "3    1956946  2016-01-07         18           GROCERY II    16.00            0\n",
       "4    1956947  2016-01-07         18             HARDWARE     2.00            0\n",
       "..       ...         ...        ...                  ...      ...          ...\n",
       "995  1957938  2016-01-07         45   HOME AND KITCHEN I    83.00            0\n",
       "996  1957939  2016-01-07         45  HOME AND KITCHEN II    97.00            1\n",
       "997  1957940  2016-01-07         45      HOME APPLIANCES     1.00            0\n",
       "998  1957941  2016-01-07         45            HOME CARE   510.00            1\n",
       "999  1957942  2016-01-07         45           LADIESWEAR     4.00            0\n",
       "\n",
       "[1000 rows x 6 columns]"
      ]
     },
     "execution_count": 13,
     "metadata": {},
     "output_type": "execute_result"
    }
   ],
   "source": [
    "# Reading csv file\n",
    "\n",
    "retail_df = pd.read_csv('../DATASETS/retail_2016_2017.csv' , skiprows=range(1,11000) , nrows=1000)\n",
    "\n",
    "retail_df"
   ]
  },
  {
   "cell_type": "code",
   "execution_count": 14,
   "metadata": {},
   "outputs": [
    {
     "data": {
      "text/plain": [
       "array(['EGGS', 'FROZEN FOODS', 'GROCERY I', 'GROCERY II', 'HARDWARE',\n",
       "       'HOME AND KITCHEN I', 'HOME AND KITCHEN II', 'HOME APPLIANCES',\n",
       "       'HOME CARE', 'LADIESWEAR', 'LAWN AND GARDEN', 'LINGERIE',\n",
       "       'LIQUOR,WINE,BEER', 'MAGAZINES', 'MEATS', 'PERSONAL CARE',\n",
       "       'PET SUPPLIES', 'PLAYERS AND ELECTRONICS', 'POULTRY',\n",
       "       'PREPARED FOODS', 'PRODUCE', 'SCHOOL AND OFFICE SUPPLIES',\n",
       "       'SEAFOOD', 'AUTOMOTIVE', 'BABY CARE', 'BEAUTY', 'BEVERAGES',\n",
       "       'BOOKS', 'BREAD/BAKERY', 'CELEBRATION', 'CLEANING', 'DAIRY',\n",
       "       'DELI', 'EGGS', 'FROZEN FOODS', 'GROCERY I', 'GROCERY II',\n",
       "       'HARDWARE', 'HOME AND KITCHEN I', 'HOME AND KITCHEN II',\n",
       "       'HOME APPLIANCES', 'HOME CARE', 'LADIESWEAR', 'LAWN AND GARDEN',\n",
       "       'LINGERIE', 'LIQUOR,WINE,BEER', 'MAGAZINES', 'MEATS',\n",
       "       'PERSONAL CARE', 'PET SUPPLIES', 'PLAYERS AND ELECTRONICS',\n",
       "       'POULTRY', 'PREPARED FOODS', 'PRODUCE',\n",
       "       'SCHOOL AND OFFICE SUPPLIES', 'SEAFOOD', 'AUTOMOTIVE', 'BABY CARE',\n",
       "       'BEAUTY', 'BEVERAGES', 'BOOKS', 'BREAD/BAKERY', 'CELEBRATION',\n",
       "       'CLEANING', 'DAIRY', 'DELI', 'EGGS', 'FROZEN FOODS', 'GROCERY I',\n",
       "       'GROCERY II', 'HARDWARE', 'HOME AND KITCHEN I',\n",
       "       'HOME AND KITCHEN II', 'HOME APPLIANCES', 'HOME CARE',\n",
       "       'LADIESWEAR', 'LAWN AND GARDEN', 'LINGERIE', 'LIQUOR,WINE,BEER',\n",
       "       'MAGAZINES', 'MEATS', 'PERSONAL CARE', 'PET SUPPLIES',\n",
       "       'PLAYERS AND ELECTRONICS', 'POULTRY', 'PREPARED FOODS', 'PRODUCE',\n",
       "       'SCHOOL AND OFFICE SUPPLIES', 'SEAFOOD', 'AUTOMOTIVE', 'BABY CARE',\n",
       "       'BEAUTY', 'BEVERAGES', 'BOOKS', 'BREAD/BAKERY', 'CELEBRATION',\n",
       "       'CLEANING', 'DAIRY', 'DELI', 'EGGS', 'FROZEN FOODS', 'GROCERY I',\n",
       "       'GROCERY II', 'HARDWARE', 'HOME AND KITCHEN I',\n",
       "       'HOME AND KITCHEN II', 'HOME APPLIANCES', 'HOME CARE',\n",
       "       'LADIESWEAR', 'LAWN AND GARDEN', 'LINGERIE', 'LIQUOR,WINE,BEER',\n",
       "       'MAGAZINES', 'MEATS', 'PERSONAL CARE', 'PET SUPPLIES',\n",
       "       'PLAYERS AND ELECTRONICS', 'POULTRY', 'PREPARED FOODS', 'PRODUCE',\n",
       "       'SCHOOL AND OFFICE SUPPLIES', 'SEAFOOD', 'AUTOMOTIVE', 'BABY CARE',\n",
       "       'BEAUTY', 'BEVERAGES', 'BOOKS', 'BREAD/BAKERY', 'CELEBRATION',\n",
       "       'CLEANING', 'DAIRY', 'DELI', 'EGGS', 'FROZEN FOODS', 'GROCERY I',\n",
       "       'GROCERY II', 'HARDWARE', 'HOME AND KITCHEN I',\n",
       "       'HOME AND KITCHEN II', 'HOME APPLIANCES', 'HOME CARE',\n",
       "       'LADIESWEAR', 'LAWN AND GARDEN', 'LINGERIE', 'LIQUOR,WINE,BEER',\n",
       "       'MAGAZINES', 'MEATS', 'PERSONAL CARE', 'PET SUPPLIES',\n",
       "       'PLAYERS AND ELECTRONICS', 'POULTRY', 'PREPARED FOODS', 'PRODUCE',\n",
       "       'SCHOOL AND OFFICE SUPPLIES', 'SEAFOOD', 'AUTOMOTIVE', 'BABY CARE',\n",
       "       'BEAUTY', 'BEVERAGES', 'BOOKS', 'BREAD/BAKERY', 'CELEBRATION',\n",
       "       'CLEANING', 'DAIRY', 'DELI', 'EGGS', 'FROZEN FOODS', 'GROCERY I',\n",
       "       'GROCERY II', 'HARDWARE', 'HOME AND KITCHEN I',\n",
       "       'HOME AND KITCHEN II', 'HOME APPLIANCES', 'HOME CARE',\n",
       "       'LADIESWEAR', 'LAWN AND GARDEN', 'LINGERIE', 'LIQUOR,WINE,BEER',\n",
       "       'MAGAZINES', 'MEATS', 'PERSONAL CARE', 'PET SUPPLIES',\n",
       "       'PLAYERS AND ELECTRONICS', 'POULTRY', 'PREPARED FOODS', 'PRODUCE',\n",
       "       'SCHOOL AND OFFICE SUPPLIES', 'SEAFOOD', 'AUTOMOTIVE', 'BABY CARE',\n",
       "       'BEAUTY', 'BEVERAGES', 'BOOKS', 'BREAD/BAKERY', 'CELEBRATION',\n",
       "       'CLEANING', 'DAIRY', 'DELI', 'EGGS', 'FROZEN FOODS', 'GROCERY I',\n",
       "       'GROCERY II', 'HARDWARE', 'HOME AND KITCHEN I',\n",
       "       'HOME AND KITCHEN II', 'HOME APPLIANCES', 'HOME CARE',\n",
       "       'LADIESWEAR', 'LAWN AND GARDEN', 'LINGERIE', 'LIQUOR,WINE,BEER',\n",
       "       'MAGAZINES', 'MEATS', 'PERSONAL CARE', 'PET SUPPLIES',\n",
       "       'PLAYERS AND ELECTRONICS', 'POULTRY', 'PREPARED FOODS', 'PRODUCE',\n",
       "       'SCHOOL AND OFFICE SUPPLIES', 'SEAFOOD', 'AUTOMOTIVE', 'BABY CARE',\n",
       "       'BEAUTY', 'BEVERAGES', 'BOOKS', 'BREAD/BAKERY', 'CELEBRATION',\n",
       "       'CLEANING', 'DAIRY', 'DELI', 'EGGS', 'FROZEN FOODS', 'GROCERY I',\n",
       "       'GROCERY II', 'HARDWARE', 'HOME AND KITCHEN I',\n",
       "       'HOME AND KITCHEN II', 'HOME APPLIANCES', 'HOME CARE',\n",
       "       'LADIESWEAR', 'LAWN AND GARDEN', 'LINGERIE', 'LIQUOR,WINE,BEER',\n",
       "       'MAGAZINES', 'MEATS', 'PERSONAL CARE', 'PET SUPPLIES',\n",
       "       'PLAYERS AND ELECTRONICS', 'POULTRY', 'PREPARED FOODS', 'PRODUCE',\n",
       "       'SCHOOL AND OFFICE SUPPLIES', 'SEAFOOD', 'AUTOMOTIVE', 'BABY CARE',\n",
       "       'BEAUTY', 'BEVERAGES', 'BOOKS', 'BREAD/BAKERY', 'CELEBRATION',\n",
       "       'CLEANING', 'DAIRY', 'DELI', 'EGGS', 'FROZEN FOODS', 'GROCERY I',\n",
       "       'GROCERY II', 'HARDWARE', 'HOME AND KITCHEN I',\n",
       "       'HOME AND KITCHEN II', 'HOME APPLIANCES', 'HOME CARE',\n",
       "       'LADIESWEAR', 'LAWN AND GARDEN', 'LINGERIE', 'LIQUOR,WINE,BEER',\n",
       "       'MAGAZINES', 'MEATS', 'PERSONAL CARE', 'PET SUPPLIES',\n",
       "       'PLAYERS AND ELECTRONICS', 'POULTRY', 'PREPARED FOODS', 'PRODUCE',\n",
       "       'SCHOOL AND OFFICE SUPPLIES', 'SEAFOOD', 'AUTOMOTIVE', 'BABY CARE',\n",
       "       'BEAUTY', 'BEVERAGES', 'BOOKS', 'BREAD/BAKERY', 'CELEBRATION',\n",
       "       'CLEANING', 'DAIRY', 'DELI', 'EGGS', 'FROZEN FOODS', 'GROCERY I',\n",
       "       'GROCERY II', 'HARDWARE', 'HOME AND KITCHEN I',\n",
       "       'HOME AND KITCHEN II', 'HOME APPLIANCES', 'HOME CARE',\n",
       "       'LADIESWEAR', 'LAWN AND GARDEN', 'LINGERIE', 'LIQUOR,WINE,BEER',\n",
       "       'MAGAZINES', 'MEATS', 'PERSONAL CARE', 'PET SUPPLIES',\n",
       "       'PLAYERS AND ELECTRONICS', 'POULTRY', 'PREPARED FOODS', 'PRODUCE',\n",
       "       'SCHOOL AND OFFICE SUPPLIES', 'SEAFOOD', 'AUTOMOTIVE', 'BABY CARE',\n",
       "       'BEAUTY', 'BEVERAGES', 'BOOKS', 'BREAD/BAKERY', 'CELEBRATION',\n",
       "       'CLEANING', 'DAIRY', 'DELI', 'EGGS', 'FROZEN FOODS', 'GROCERY I',\n",
       "       'GROCERY II', 'HARDWARE', 'HOME AND KITCHEN I',\n",
       "       'HOME AND KITCHEN II', 'HOME APPLIANCES', 'HOME CARE',\n",
       "       'LADIESWEAR', 'LAWN AND GARDEN', 'LINGERIE', 'LIQUOR,WINE,BEER',\n",
       "       'MAGAZINES', 'MEATS', 'PERSONAL CARE', 'PET SUPPLIES',\n",
       "       'PLAYERS AND ELECTRONICS', 'POULTRY', 'PREPARED FOODS', 'PRODUCE',\n",
       "       'SCHOOL AND OFFICE SUPPLIES', 'SEAFOOD', 'AUTOMOTIVE', 'BABY CARE',\n",
       "       'BEAUTY', 'BEVERAGES', 'BOOKS', 'BREAD/BAKERY', 'CELEBRATION',\n",
       "       'CLEANING', 'DAIRY', 'DELI', 'EGGS', 'FROZEN FOODS', 'GROCERY I',\n",
       "       'GROCERY II', 'HARDWARE', 'HOME AND KITCHEN I',\n",
       "       'HOME AND KITCHEN II', 'HOME APPLIANCES', 'HOME CARE',\n",
       "       'LADIESWEAR', 'LAWN AND GARDEN', 'LINGERIE', 'LIQUOR,WINE,BEER',\n",
       "       'MAGAZINES', 'MEATS', 'PERSONAL CARE', 'PET SUPPLIES',\n",
       "       'PLAYERS AND ELECTRONICS', 'POULTRY', 'PREPARED FOODS', 'PRODUCE',\n",
       "       'SCHOOL AND OFFICE SUPPLIES', 'SEAFOOD', 'AUTOMOTIVE', 'BABY CARE',\n",
       "       'BEAUTY', 'BEVERAGES', 'BOOKS', 'BREAD/BAKERY', 'CELEBRATION',\n",
       "       'CLEANING', 'DAIRY', 'DELI', 'EGGS', 'FROZEN FOODS', 'GROCERY I',\n",
       "       'GROCERY II', 'HARDWARE', 'HOME AND KITCHEN I',\n",
       "       'HOME AND KITCHEN II', 'HOME APPLIANCES', 'HOME CARE',\n",
       "       'LADIESWEAR', 'LAWN AND GARDEN', 'LINGERIE', 'LIQUOR,WINE,BEER',\n",
       "       'MAGAZINES', 'MEATS', 'PERSONAL CARE', 'PET SUPPLIES',\n",
       "       'PLAYERS AND ELECTRONICS', 'POULTRY', 'PREPARED FOODS', 'PRODUCE',\n",
       "       'SCHOOL AND OFFICE SUPPLIES', 'SEAFOOD', 'AUTOMOTIVE', 'BABY CARE',\n",
       "       'BEAUTY', 'BEVERAGES', 'BOOKS', 'BREAD/BAKERY', 'CELEBRATION',\n",
       "       'CLEANING', 'DAIRY', 'DELI', 'EGGS', 'FROZEN FOODS', 'GROCERY I',\n",
       "       'GROCERY II', 'HARDWARE', 'HOME AND KITCHEN I',\n",
       "       'HOME AND KITCHEN II', 'HOME APPLIANCES', 'HOME CARE',\n",
       "       'LADIESWEAR', 'LAWN AND GARDEN', 'LINGERIE', 'LIQUOR,WINE,BEER',\n",
       "       'MAGAZINES', 'MEATS', 'PERSONAL CARE', 'PET SUPPLIES',\n",
       "       'PLAYERS AND ELECTRONICS', 'POULTRY', 'PREPARED FOODS', 'PRODUCE',\n",
       "       'SCHOOL AND OFFICE SUPPLIES', 'SEAFOOD', 'AUTOMOTIVE', 'BABY CARE',\n",
       "       'BEAUTY', 'BEVERAGES', 'BOOKS', 'BREAD/BAKERY', 'CELEBRATION',\n",
       "       'CLEANING', 'DAIRY', 'DELI', 'EGGS', 'FROZEN FOODS', 'GROCERY I',\n",
       "       'GROCERY II', 'HARDWARE', 'HOME AND KITCHEN I',\n",
       "       'HOME AND KITCHEN II', 'HOME APPLIANCES', 'HOME CARE',\n",
       "       'LADIESWEAR', 'LAWN AND GARDEN', 'LINGERIE', 'LIQUOR,WINE,BEER',\n",
       "       'MAGAZINES', 'MEATS', 'PERSONAL CARE', 'PET SUPPLIES',\n",
       "       'PLAYERS AND ELECTRONICS', 'POULTRY', 'PREPARED FOODS', 'PRODUCE',\n",
       "       'SCHOOL AND OFFICE SUPPLIES', 'SEAFOOD', 'AUTOMOTIVE', 'BABY CARE',\n",
       "       'BEAUTY', 'BEVERAGES', 'BOOKS', 'BREAD/BAKERY', 'CELEBRATION',\n",
       "       'CLEANING', 'DAIRY', 'DELI', 'EGGS', 'FROZEN FOODS', 'GROCERY I',\n",
       "       'GROCERY II', 'HARDWARE', 'HOME AND KITCHEN I',\n",
       "       'HOME AND KITCHEN II', 'HOME APPLIANCES', 'HOME CARE',\n",
       "       'LADIESWEAR', 'LAWN AND GARDEN', 'LINGERIE', 'LIQUOR,WINE,BEER',\n",
       "       'MAGAZINES', 'MEATS', 'PERSONAL CARE', 'PET SUPPLIES',\n",
       "       'PLAYERS AND ELECTRONICS', 'POULTRY', 'PREPARED FOODS', 'PRODUCE',\n",
       "       'SCHOOL AND OFFICE SUPPLIES', 'SEAFOOD', 'AUTOMOTIVE', 'BABY CARE',\n",
       "       'BEAUTY', 'BEVERAGES', 'BOOKS', 'BREAD/BAKERY', 'CELEBRATION',\n",
       "       'CLEANING', 'DAIRY', 'DELI', 'EGGS', 'FROZEN FOODS', 'GROCERY I',\n",
       "       'GROCERY II', 'HARDWARE', 'HOME AND KITCHEN I',\n",
       "       'HOME AND KITCHEN II', 'HOME APPLIANCES', 'HOME CARE',\n",
       "       'LADIESWEAR', 'LAWN AND GARDEN', 'LINGERIE', 'LIQUOR,WINE,BEER',\n",
       "       'MAGAZINES', 'MEATS', 'PERSONAL CARE', 'PET SUPPLIES',\n",
       "       'PLAYERS AND ELECTRONICS', 'POULTRY', 'PREPARED FOODS', 'PRODUCE',\n",
       "       'SCHOOL AND OFFICE SUPPLIES', 'SEAFOOD', 'AUTOMOTIVE', 'BABY CARE',\n",
       "       'BEAUTY', 'BEVERAGES', 'BOOKS', 'BREAD/BAKERY', 'CELEBRATION',\n",
       "       'CLEANING', 'DAIRY', 'DELI', 'EGGS', 'FROZEN FOODS', 'GROCERY I',\n",
       "       'GROCERY II', 'HARDWARE', 'HOME AND KITCHEN I',\n",
       "       'HOME AND KITCHEN II', 'HOME APPLIANCES', 'HOME CARE',\n",
       "       'LADIESWEAR', 'LAWN AND GARDEN', 'LINGERIE', 'LIQUOR,WINE,BEER',\n",
       "       'MAGAZINES', 'MEATS', 'PERSONAL CARE', 'PET SUPPLIES',\n",
       "       'PLAYERS AND ELECTRONICS', 'POULTRY', 'PREPARED FOODS', 'PRODUCE',\n",
       "       'SCHOOL AND OFFICE SUPPLIES', 'SEAFOOD', 'AUTOMOTIVE', 'BABY CARE',\n",
       "       'BEAUTY', 'BEVERAGES', 'BOOKS', 'BREAD/BAKERY', 'CELEBRATION',\n",
       "       'CLEANING', 'DAIRY', 'DELI', 'EGGS', 'FROZEN FOODS', 'GROCERY I',\n",
       "       'GROCERY II', 'HARDWARE', 'HOME AND KITCHEN I',\n",
       "       'HOME AND KITCHEN II', 'HOME APPLIANCES', 'HOME CARE',\n",
       "       'LADIESWEAR', 'LAWN AND GARDEN', 'LINGERIE', 'LIQUOR,WINE,BEER',\n",
       "       'MAGAZINES', 'MEATS', 'PERSONAL CARE', 'PET SUPPLIES',\n",
       "       'PLAYERS AND ELECTRONICS', 'POULTRY', 'PREPARED FOODS', 'PRODUCE',\n",
       "       'SCHOOL AND OFFICE SUPPLIES', 'SEAFOOD', 'AUTOMOTIVE', 'BABY CARE',\n",
       "       'BEAUTY', 'BEVERAGES', 'BOOKS', 'BREAD/BAKERY', 'CELEBRATION',\n",
       "       'CLEANING', 'DAIRY', 'DELI', 'EGGS', 'FROZEN FOODS', 'GROCERY I',\n",
       "       'GROCERY II', 'HARDWARE', 'HOME AND KITCHEN I',\n",
       "       'HOME AND KITCHEN II', 'HOME APPLIANCES', 'HOME CARE',\n",
       "       'LADIESWEAR', 'LAWN AND GARDEN', 'LINGERIE', 'LIQUOR,WINE,BEER',\n",
       "       'MAGAZINES', 'MEATS', 'PERSONAL CARE', 'PET SUPPLIES',\n",
       "       'PLAYERS AND ELECTRONICS', 'POULTRY', 'PREPARED FOODS', 'PRODUCE',\n",
       "       'SCHOOL AND OFFICE SUPPLIES', 'SEAFOOD', 'AUTOMOTIVE', 'BABY CARE',\n",
       "       'BEAUTY', 'BEVERAGES', 'BOOKS', 'BREAD/BAKERY', 'CELEBRATION',\n",
       "       'CLEANING', 'DAIRY', 'DELI', 'EGGS', 'FROZEN FOODS', 'GROCERY I',\n",
       "       'GROCERY II', 'HARDWARE', 'HOME AND KITCHEN I',\n",
       "       'HOME AND KITCHEN II', 'HOME APPLIANCES', 'HOME CARE',\n",
       "       'LADIESWEAR', 'LAWN AND GARDEN', 'LINGERIE', 'LIQUOR,WINE,BEER',\n",
       "       'MAGAZINES', 'MEATS', 'PERSONAL CARE', 'PET SUPPLIES',\n",
       "       'PLAYERS AND ELECTRONICS', 'POULTRY', 'PREPARED FOODS', 'PRODUCE',\n",
       "       'SCHOOL AND OFFICE SUPPLIES', 'SEAFOOD', 'AUTOMOTIVE', 'BABY CARE',\n",
       "       'BEAUTY', 'BEVERAGES', 'BOOKS', 'BREAD/BAKERY', 'CELEBRATION',\n",
       "       'CLEANING', 'DAIRY', 'DELI', 'EGGS', 'FROZEN FOODS', 'GROCERY I',\n",
       "       'GROCERY II', 'HARDWARE', 'HOME AND KITCHEN I',\n",
       "       'HOME AND KITCHEN II', 'HOME APPLIANCES', 'HOME CARE',\n",
       "       'LADIESWEAR', 'LAWN AND GARDEN', 'LINGERIE', 'LIQUOR,WINE,BEER',\n",
       "       'MAGAZINES', 'MEATS', 'PERSONAL CARE', 'PET SUPPLIES',\n",
       "       'PLAYERS AND ELECTRONICS', 'POULTRY', 'PREPARED FOODS', 'PRODUCE',\n",
       "       'SCHOOL AND OFFICE SUPPLIES', 'SEAFOOD', 'AUTOMOTIVE', 'BABY CARE',\n",
       "       'BEAUTY', 'BEVERAGES', 'BOOKS', 'BREAD/BAKERY', 'CELEBRATION',\n",
       "       'CLEANING', 'DAIRY', 'DELI', 'EGGS', 'FROZEN FOODS', 'GROCERY I',\n",
       "       'GROCERY II', 'HARDWARE', 'HOME AND KITCHEN I',\n",
       "       'HOME AND KITCHEN II', 'HOME APPLIANCES', 'HOME CARE',\n",
       "       'LADIESWEAR', 'LAWN AND GARDEN', 'LINGERIE', 'LIQUOR,WINE,BEER',\n",
       "       'MAGAZINES', 'MEATS', 'PERSONAL CARE', 'PET SUPPLIES',\n",
       "       'PLAYERS AND ELECTRONICS', 'POULTRY', 'PREPARED FOODS', 'PRODUCE',\n",
       "       'SCHOOL AND OFFICE SUPPLIES', 'SEAFOOD', 'AUTOMOTIVE', 'BABY CARE',\n",
       "       'BEAUTY', 'BEVERAGES', 'BOOKS', 'BREAD/BAKERY', 'CELEBRATION',\n",
       "       'CLEANING', 'DAIRY', 'DELI', 'EGGS', 'FROZEN FOODS', 'GROCERY I',\n",
       "       'GROCERY II', 'HARDWARE', 'HOME AND KITCHEN I',\n",
       "       'HOME AND KITCHEN II', 'HOME APPLIANCES', 'HOME CARE',\n",
       "       'LADIESWEAR', 'LAWN AND GARDEN', 'LINGERIE', 'LIQUOR,WINE,BEER',\n",
       "       'MAGAZINES', 'MEATS', 'PERSONAL CARE', 'PET SUPPLIES',\n",
       "       'PLAYERS AND ELECTRONICS', 'POULTRY', 'PREPARED FOODS', 'PRODUCE',\n",
       "       'SCHOOL AND OFFICE SUPPLIES', 'SEAFOOD', 'AUTOMOTIVE', 'BABY CARE',\n",
       "       'BEAUTY', 'BEVERAGES', 'BOOKS', 'BREAD/BAKERY', 'CELEBRATION',\n",
       "       'CLEANING', 'DAIRY', 'DELI', 'EGGS', 'FROZEN FOODS', 'GROCERY I',\n",
       "       'GROCERY II', 'HARDWARE', 'HOME AND KITCHEN I',\n",
       "       'HOME AND KITCHEN II', 'HOME APPLIANCES', 'HOME CARE',\n",
       "       'LADIESWEAR', 'LAWN AND GARDEN', 'LINGERIE', 'LIQUOR,WINE,BEER',\n",
       "       'MAGAZINES', 'MEATS', 'PERSONAL CARE', 'PET SUPPLIES',\n",
       "       'PLAYERS AND ELECTRONICS', 'POULTRY', 'PREPARED FOODS', 'PRODUCE',\n",
       "       'SCHOOL AND OFFICE SUPPLIES', 'SEAFOOD', 'AUTOMOTIVE', 'BABY CARE',\n",
       "       'BEAUTY', 'BEVERAGES', 'BOOKS', 'BREAD/BAKERY', 'CELEBRATION',\n",
       "       'CLEANING', 'DAIRY', 'DELI', 'EGGS', 'FROZEN FOODS', 'GROCERY I',\n",
       "       'GROCERY II', 'HARDWARE', 'HOME AND KITCHEN I',\n",
       "       'HOME AND KITCHEN II', 'HOME APPLIANCES', 'HOME CARE',\n",
       "       'LADIESWEAR', 'LAWN AND GARDEN', 'LINGERIE', 'LIQUOR,WINE,BEER',\n",
       "       'MAGAZINES', 'MEATS', 'PERSONAL CARE', 'PET SUPPLIES',\n",
       "       'PLAYERS AND ELECTRONICS', 'POULTRY', 'PREPARED FOODS', 'PRODUCE',\n",
       "       'SCHOOL AND OFFICE SUPPLIES', 'SEAFOOD', 'AUTOMOTIVE', 'BABY CARE',\n",
       "       'BEAUTY', 'BEVERAGES', 'BOOKS', 'BREAD/BAKERY', 'CELEBRATION',\n",
       "       'CLEANING', 'DAIRY', 'DELI', 'EGGS', 'FROZEN FOODS', 'GROCERY I',\n",
       "       'GROCERY II', 'HARDWARE', 'HOME AND KITCHEN I',\n",
       "       'HOME AND KITCHEN II', 'HOME APPLIANCES', 'HOME CARE',\n",
       "       'LADIESWEAR', 'LAWN AND GARDEN', 'LINGERIE', 'LIQUOR,WINE,BEER',\n",
       "       'MAGAZINES', 'MEATS', 'PERSONAL CARE', 'PET SUPPLIES',\n",
       "       'PLAYERS AND ELECTRONICS', 'POULTRY', 'PREPARED FOODS', 'PRODUCE',\n",
       "       'SCHOOL AND OFFICE SUPPLIES', 'SEAFOOD', 'AUTOMOTIVE', 'BABY CARE',\n",
       "       'BEAUTY', 'BEVERAGES', 'BOOKS', 'BREAD/BAKERY', 'CELEBRATION',\n",
       "       'CLEANING', 'DAIRY', 'DELI', 'EGGS', 'FROZEN FOODS', 'GROCERY I',\n",
       "       'GROCERY II', 'HARDWARE', 'HOME AND KITCHEN I',\n",
       "       'HOME AND KITCHEN II', 'HOME APPLIANCES', 'HOME CARE',\n",
       "       'LADIESWEAR', 'LAWN AND GARDEN', 'LINGERIE', 'LIQUOR,WINE,BEER',\n",
       "       'MAGAZINES', 'MEATS', 'PERSONAL CARE', 'PET SUPPLIES',\n",
       "       'PLAYERS AND ELECTRONICS', 'POULTRY', 'PREPARED FOODS', 'PRODUCE',\n",
       "       'SCHOOL AND OFFICE SUPPLIES', 'SEAFOOD', 'AUTOMOTIVE', 'BABY CARE',\n",
       "       'BEAUTY', 'BEVERAGES', 'BOOKS', 'BREAD/BAKERY', 'CELEBRATION',\n",
       "       'CLEANING', 'DAIRY', 'DELI', 'EGGS', 'FROZEN FOODS', 'GROCERY I',\n",
       "       'GROCERY II', 'HARDWARE', 'HOME AND KITCHEN I',\n",
       "       'HOME AND KITCHEN II', 'HOME APPLIANCES', 'HOME CARE',\n",
       "       'LADIESWEAR', 'LAWN AND GARDEN', 'LINGERIE', 'LIQUOR,WINE,BEER',\n",
       "       'MAGAZINES', 'MEATS', 'PERSONAL CARE', 'PET SUPPLIES',\n",
       "       'PLAYERS AND ELECTRONICS', 'POULTRY', 'PREPARED FOODS', 'PRODUCE',\n",
       "       'SCHOOL AND OFFICE SUPPLIES', 'SEAFOOD', 'AUTOMOTIVE', 'BABY CARE',\n",
       "       'BEAUTY', 'BEVERAGES', 'BOOKS', 'BREAD/BAKERY', 'CELEBRATION',\n",
       "       'CLEANING', 'DAIRY', 'DELI', 'EGGS', 'FROZEN FOODS', 'GROCERY I',\n",
       "       'GROCERY II', 'HARDWARE', 'HOME AND KITCHEN I',\n",
       "       'HOME AND KITCHEN II', 'HOME APPLIANCES', 'HOME CARE',\n",
       "       'LADIESWEAR', 'LAWN AND GARDEN', 'LINGERIE', 'LIQUOR,WINE,BEER',\n",
       "       'MAGAZINES', 'MEATS', 'PERSONAL CARE', 'PET SUPPLIES',\n",
       "       'PLAYERS AND ELECTRONICS', 'POULTRY', 'PREPARED FOODS', 'PRODUCE',\n",
       "       'SCHOOL AND OFFICE SUPPLIES', 'SEAFOOD', 'AUTOMOTIVE', 'BABY CARE',\n",
       "       'BEAUTY', 'BEVERAGES', 'BOOKS', 'BREAD/BAKERY', 'CELEBRATION',\n",
       "       'CLEANING', 'DAIRY', 'DELI', 'EGGS', 'FROZEN FOODS', 'GROCERY I',\n",
       "       'GROCERY II', 'HARDWARE', 'HOME AND KITCHEN I',\n",
       "       'HOME AND KITCHEN II', 'HOME APPLIANCES', 'HOME CARE',\n",
       "       'LADIESWEAR'], dtype=object)"
      ]
     },
     "execution_count": 14,
     "metadata": {},
     "output_type": "execute_result"
    }
   ],
   "source": [
    "family_array = np.array(retail_df['family'])\n",
    "\n",
    "family_array"
   ]
  },
  {
   "cell_type": "code",
   "execution_count": 15,
   "metadata": {},
   "outputs": [
    {
     "data": {
      "text/plain": [
       "array([1.77000000e+02, 3.60000000e+01, 2.29106000e+03, 1.60000000e+01,\n",
       "       2.00000000e+00, 1.20000000e+01, 7.00000000e+00, 0.00000000e+00,\n",
       "       1.94000000e+02, 3.00000000e+00, 2.00000000e+00, 6.00000000e+00,\n",
       "       4.60000000e+01, 1.00000000e+00, 2.18416000e+02, 1.84000000e+02,\n",
       "       4.00000000e+00, 1.00000000e+00, 2.63230000e+02, 5.10000000e+01,\n",
       "       1.66239400e+03, 0.00000000e+00, 6.53600030e+00, 1.00000000e+01,\n",
       "       0.00000000e+00, 2.00000000e+00, 3.03300000e+03, 0.00000000e+00,\n",
       "       1.61000000e+02, 1.20000000e+01, 7.18000000e+02, 2.67000000e+02,\n",
       "       2.80000000e+02, 2.70000000e+01, 4.70000000e+01, 2.45300000e+03,\n",
       "       2.00000000e+00, 1.00000000e+00, 2.20000000e+01, 8.00000000e+00,\n",
       "       0.00000000e+00, 1.39000000e+02, 1.00000000e+00, 0.00000000e+00,\n",
       "       2.00000000e+00, 4.60000000e+01, 1.00000000e+00, 1.68847000e+02,\n",
       "       1.90000000e+02, 0.00000000e+00, 0.00000000e+00, 2.18873000e+02,\n",
       "       4.60000000e+01, 4.47064000e+02, 0.00000000e+00, 4.00000000e+00,\n",
       "       9.00000000e+00, 0.00000000e+00, 4.00000000e+00, 2.62300000e+03,\n",
       "       0.00000000e+00, 4.99000000e+02, 6.00000000e+00, 9.01000000e+02,\n",
       "       7.88000000e+02, 1.83632000e+02, 1.45000000e+02, 1.34381000e+02,\n",
       "       3.40800000e+03, 3.10000000e+01, 4.00000000e+00, 1.50000000e+01,\n",
       "       3.90000000e+01, 1.00000000e+00, 2.34000000e+02, 2.60000000e+01,\n",
       "       4.00000000e+00, 7.00000000e+00, 4.90000000e+01, 1.00000000e+00,\n",
       "       3.54564000e+02, 2.36000000e+02, 9.00000000e+00, 3.00000000e+00,\n",
       "       4.12055000e+02, 1.42694000e+02, 2.42394400e+03, 0.00000000e+00,\n",
       "       2.76400000e+01, 7.00000000e+00, 3.00000000e+00, 1.00000000e+00,\n",
       "       2.42900000e+03, 0.00000000e+00, 3.21000000e+02, 6.00000000e+00,\n",
       "       1.18000000e+03, 5.79000000e+02, 4.72523000e+02, 5.80000000e+01,\n",
       "       5.20000000e+01, 4.07953400e+03, 1.40000000e+01, 0.00000000e+00,\n",
       "       1.20000000e+01, 1.10000000e+01, 0.00000000e+00, 2.80000000e+02,\n",
       "       2.00000000e+00, 2.00000000e+00, 1.00000000e+00, 2.90000000e+01,\n",
       "       1.00000000e+00, 4.71233000e+02, 3.30000000e+02, 2.00000000e+00,\n",
       "       6.00000000e+00, 2.91393980e+02, 9.75730000e+01, 9.62866000e+02,\n",
       "       0.00000000e+00, 7.00000000e+00, 1.10000000e+01, 1.00000000e+00,\n",
       "       2.00000000e+00, 3.44900000e+03, 0.00000000e+00, 3.70000000e+02,\n",
       "       6.00000000e+00, 1.00700000e+03, 3.80000000e+02, 2.20475000e+02,\n",
       "       1.09000000e+02, 6.74010000e+01, 3.16148900e+03, 3.00000000e+00,\n",
       "       0.00000000e+00, 2.90000000e+01, 3.10000000e+01, 0.00000000e+00,\n",
       "       2.77000000e+02, 2.00000000e+00, 0.00000000e+00, 3.00000000e+00,\n",
       "       2.10000000e+01, 1.00000000e+00, 1.08595000e+02, 3.29000000e+02,\n",
       "       2.00000000e+00, 1.10000000e+01, 1.53788000e+02, 9.40730000e+01,\n",
       "       1.23640400e+03, 0.00000000e+00, 0.00000000e+00, 2.00000000e+00,\n",
       "       0.00000000e+00, 1.00000000e+00, 1.09500000e+03, 0.00000000e+00,\n",
       "       9.80000000e+01, 8.00000000e+00, 5.37000000e+02, 2.12000000e+02,\n",
       "       1.03000000e+02, 5.30000000e+01, 2.60000000e+01, 1.58800000e+03,\n",
       "       3.00000000e+00, 0.00000000e+00, 1.50000000e+01, 1.20000000e+01,\n",
       "       0.00000000e+00, 1.22000000e+02, 0.00000000e+00, 0.00000000e+00,\n",
       "       6.00000000e+00, 1.10000000e+01, 0.00000000e+00, 1.11437004e+02,\n",
       "       1.48000000e+02, 1.00000000e+00, 1.00000000e+00, 3.30179980e+01,\n",
       "       3.10000000e+01, 2.98441000e+02, 1.00000000e+00, 2.00000000e+00,\n",
       "       2.00000000e+00, 0.00000000e+00, 0.00000000e+00, 1.36400000e+03,\n",
       "       0.00000000e+00, 2.03313000e+02, 1.00000000e+01, 5.39000000e+02,\n",
       "       4.53000000e+02, 1.38179000e+02, 5.20000000e+01, 7.00340000e+01,\n",
       "       2.07600000e+03, 1.20000000e+01, 0.00000000e+00, 6.00000000e+00,\n",
       "       1.30000000e+01, 0.00000000e+00, 1.36000000e+02, 3.00000000e+00,\n",
       "       0.00000000e+00, 2.00000000e+00, 3.20000000e+01, 0.00000000e+00,\n",
       "       8.00111000e+02, 1.63000000e+02, 1.00000000e+00, 0.00000000e+00,\n",
       "       3.12476000e+02, 3.49690000e+01, 1.07744000e+03, 0.00000000e+00,\n",
       "       1.02770000e+01, 3.00000000e+00, 0.00000000e+00, 6.00000000e+00,\n",
       "       3.20000000e+03, 0.00000000e+00, 6.14430000e+02, 3.20000000e+01,\n",
       "       9.74000000e+02, 1.01600000e+03, 1.98649000e+02, 1.58000000e+02,\n",
       "       1.78429000e+02, 3.52800000e+03, 2.30000000e+01, 1.00000000e+00,\n",
       "       1.80000000e+01, 2.70000000e+01, 0.00000000e+00, 2.70000000e+02,\n",
       "       1.70000000e+01, 1.00000000e+01, 8.00000000e+00, 9.20000000e+01,\n",
       "       1.10000000e+01, 2.35896000e+02, 2.74000000e+02, 8.00000000e+00,\n",
       "       1.30000000e+01, 3.89541000e+02, 1.05658005e+02, 3.40453100e+03,\n",
       "       0.00000000e+00, 2.87380000e+01, 1.00000000e+00, 0.00000000e+00,\n",
       "       3.00000000e+00, 1.55100000e+03, 0.00000000e+00, 1.96480000e+02,\n",
       "       3.00000000e+00, 3.75000000e+02, 4.08000000e+02, 7.31420000e+01,\n",
       "       8.50000000e+01, 8.62180000e+01, 1.40100000e+03, 5.00000000e+00,\n",
       "       0.00000000e+00, 1.70000000e+01, 7.00000000e+00, 0.00000000e+00,\n",
       "       8.40000000e+01, 0.00000000e+00, 3.00000000e+00, 6.00000000e+00,\n",
       "       9.90000000e+01, 2.00000000e+00, 1.23234000e+02, 9.10000000e+01,\n",
       "       7.00000000e+00, 3.00000000e+00, 1.05806000e+02, 4.00780000e+01,\n",
       "       9.62960000e+02, 0.00000000e+00, 4.00000000e+00, 1.00000000e+00,\n",
       "       0.00000000e+00, 2.00000000e+00, 6.18000000e+02, 0.00000000e+00,\n",
       "       1.31456000e+02, 5.00000000e+00, 2.78000000e+02, 1.20000000e+02,\n",
       "       4.29330000e+01, 1.60000000e+01, 5.33540000e+01, 9.63000000e+02,\n",
       "       0.00000000e+00, 0.00000000e+00, 1.50000000e+01, 0.00000000e+00,\n",
       "       0.00000000e+00, 5.60000000e+01, 2.00000000e+00, 0.00000000e+00,\n",
       "       3.00000000e+00, 1.00000000e+01, 0.00000000e+00, 1.77339000e+02,\n",
       "       1.13000000e+02, 1.00000000e+00, 1.00000000e+00, 1.08260000e+02,\n",
       "       1.80000000e+01, 2.79505000e+02, 0.00000000e+00, 2.00000000e+00,\n",
       "       6.00000000e+00, 0.00000000e+00, 4.00000000e+00, 2.09800000e+03,\n",
       "       0.00000000e+00, 4.55119000e+02, 9.00000000e+00, 7.04000000e+02,\n",
       "       6.94000000e+02, 1.80483000e+02, 1.62000000e+02, 1.20056000e+02,\n",
       "       2.53800000e+03, 1.40000000e+01, 4.00000000e+00, 1.40000000e+01,\n",
       "       1.80000000e+01, 0.00000000e+00, 1.45000000e+02, 1.00000000e+00,\n",
       "       8.00000000e+00, 0.00000000e+00, 7.50000000e+01, 3.00000000e+00,\n",
       "       2.52745000e+02, 4.91000000e+02, 8.00000000e+00, 5.00000000e+00,\n",
       "       2.95347000e+02, 8.20730000e+01, 1.85278600e+03, 2.00000000e+00,\n",
       "       2.35290000e+01, 4.00000000e+00, 0.00000000e+00, 1.00000000e+00,\n",
       "       2.65900000e+03, 0.00000000e+00, 4.31000000e+02, 1.20000000e+01,\n",
       "       8.34000000e+02, 4.62000000e+02, 3.06972000e+02, 1.53000000e+02,\n",
       "       8.98670040e+01, 2.88765400e+03, 3.00000000e+00, 0.00000000e+00,\n",
       "       2.30000000e+01, 1.70000000e+01, 0.00000000e+00, 1.88000000e+02,\n",
       "       0.00000000e+00, 0.00000000e+00, 2.00000000e+00, 2.60000000e+01,\n",
       "       2.00000000e+00, 2.75741000e+02, 4.55000000e+02, 3.00000000e+00,\n",
       "       0.00000000e+00, 2.09894000e+02, 6.47860000e+01, 1.08931900e+03,\n",
       "       0.00000000e+00, 9.00000000e+00, 6.00000000e+00, 0.00000000e+00,\n",
       "       1.00000000e+00, 1.68000000e+03, 0.00000000e+00, 4.26000000e+02,\n",
       "       5.00000000e+00, 7.68000000e+02, 3.98000000e+02, 2.10642000e+02,\n",
       "       1.42000000e+02, 5.20000000e+01, 2.40585700e+03, 7.00000000e+00,\n",
       "       3.00000000e+00, 1.60000000e+01, 1.70000000e+01, 1.00000000e+00,\n",
       "       1.67000000e+02, 0.00000000e+00, 0.00000000e+00, 6.00000000e+00,\n",
       "       7.50000000e+01, 1.00000000e+00, 1.62416000e+02, 2.60000000e+02,\n",
       "       3.00000000e+00, 2.00000000e+00, 1.37833000e+02, 4.57270000e+01,\n",
       "       7.26516000e+02, 1.00000000e+00, 5.00000000e+00, 1.60000000e+01,\n",
       "       0.00000000e+00, 8.00000000e+00, 6.56700000e+03, 0.00000000e+00,\n",
       "       1.11332600e+03, 4.40000000e+01, 1.91400000e+03, 1.91700000e+03,\n",
       "       2.83622000e+02, 3.76000000e+02, 3.63709000e+02, 6.48700000e+03,\n",
       "       5.80000000e+01, 4.00000000e+00, 4.30000000e+01, 6.60000000e+01,\n",
       "       2.00000000e+00, 4.38000000e+02, 3.80000000e+01, 5.00000000e+00,\n",
       "       1.40000000e+01, 2.09000000e+02, 2.00000000e+00, 6.44307000e+02,\n",
       "       5.30000000e+02, 2.40000000e+01, 1.60000000e+01, 1.02905200e+03,\n",
       "       2.92207000e+02, 7.86003100e+03, 2.00000000e+00, 8.19630000e+01,\n",
       "       2.00000000e+00, 0.00000000e+00, 1.00000000e+00, 1.29800000e+03,\n",
       "       0.00000000e+00, 1.59000000e+02, 2.00000000e+00, 5.36000000e+02,\n",
       "       2.37000000e+02, 8.90000000e+01, 1.00000000e+02, 6.25540000e+01,\n",
       "       1.54100000e+03, 4.00000000e+00, 0.00000000e+00, 1.30000000e+01,\n",
       "       3.00000000e+00, 0.00000000e+00, 1.17000000e+02, 2.00000000e+00,\n",
       "       0.00000000e+00, 0.00000000e+00, 2.80000000e+01, 1.00000000e+00,\n",
       "       1.34618000e+02, 1.03000000e+02, 3.00000000e+00, 3.00000000e+00,\n",
       "       1.26062000e+02, 3.40000000e+01, 4.46038000e+02, 0.00000000e+00,\n",
       "       1.00000000e+00, 9.00000000e+00, 2.00000000e+00, 3.00000000e+00,\n",
       "       2.27000000e+03, 0.00000000e+00, 4.21000000e+02, 4.00000000e+00,\n",
       "       1.18600000e+03, 5.67000000e+02, 2.81808000e+02, 2.44000000e+02,\n",
       "       1.04925000e+02, 3.89079700e+03, 1.30000000e+01, 1.00000000e+00,\n",
       "       1.00000000e+01, 1.50000000e+01, 1.00000000e+00, 2.33000000e+02,\n",
       "       1.00000000e+00, 0.00000000e+00, 4.00000000e+00, 1.40000000e+01,\n",
       "       0.00000000e+00, 5.35779000e+02, 3.45000000e+02, 2.00000000e+00,\n",
       "       9.00000000e+00, 1.64079000e+02, 9.90000000e+01, 1.15538500e+03,\n",
       "       0.00000000e+00, 8.00000000e+00, 5.00000000e+00, 0.00000000e+00,\n",
       "       0.00000000e+00, 6.13000000e+02, 0.00000000e+00, 6.40000000e+01,\n",
       "       0.00000000e+00, 3.18000000e+02, 1.00000000e+02, 9.40000000e+01,\n",
       "       8.00000000e+01, 2.10000000e+01, 1.02700000e+03, 1.00000000e+00,\n",
       "       1.00000000e+00, 3.00000000e+00, 3.00000000e+00, 0.00000000e+00,\n",
       "       9.10000000e+01, 0.00000000e+00, 0.00000000e+00, 2.00000000e+00,\n",
       "       3.00000000e+01, 0.00000000e+00, 7.12690000e+01, 8.70000000e+01,\n",
       "       0.00000000e+00, 0.00000000e+00, 5.98080020e+01, 3.00000000e+00,\n",
       "       1.20202000e+02, 0.00000000e+00, 3.00000000e+00, 1.00000000e+00,\n",
       "       0.00000000e+00, 1.00000000e+00, 1.73100000e+03, 0.00000000e+00,\n",
       "       1.93000000e+02, 4.00000000e+00, 1.13500000e+03, 3.53000000e+02,\n",
       "       1.87000000e+02, 1.76000000e+02, 3.22800000e+01, 2.94746500e+03,\n",
       "       3.00000000e+00, 2.00000000e+00, 1.00000000e+02, 1.70000000e+01,\n",
       "       0.00000000e+00, 2.10000000e+02, 0.00000000e+00, 0.00000000e+00,\n",
       "       3.00000000e+00, 3.20000000e+01, 1.00000000e+00, 2.62509000e+02,\n",
       "       2.79000000e+02, 3.00000000e+00, 3.00000000e+00, 2.14322000e+02,\n",
       "       2.30000000e+01, 8.62092000e+02, 0.00000000e+00, 3.00000000e+00,\n",
       "       3.00000000e+00, 2.00000000e+00, 1.00000000e+00, 2.24000000e+03,\n",
       "       0.00000000e+00, 5.11000000e+02, 1.70000000e+01, 8.85000000e+02,\n",
       "       4.90000000e+02, 2.29672000e+02, 1.28000000e+02, 1.48670000e+02,\n",
       "       3.19163100e+03, 7.00000000e+00, 2.00000000e+00, 2.90000000e+01,\n",
       "       1.80000000e+01, 0.00000000e+00, 2.19000000e+02, 4.00000000e+00,\n",
       "       0.00000000e+00, 3.00000000e+00, 3.70000000e+01, 1.00000000e+00,\n",
       "       1.29390000e+02, 3.30000000e+02, 1.00000000e+00, 6.00000000e+00,\n",
       "       1.08375000e+02, 9.00000000e+00, 4.73952000e+02, 6.00000000e+00,\n",
       "       2.00000000e+00, 3.00000000e+00, 0.00000000e+00, 1.00000000e+00,\n",
       "       1.86600000e+03, 0.00000000e+00, 5.90000000e+01, 3.00000000e+00,\n",
       "       3.83000000e+02, 1.29000000e+02, 9.70000000e+01, 5.60000000e+01,\n",
       "       4.34040000e+01, 1.29300000e+03, 5.00000000e+00, 0.00000000e+00,\n",
       "       9.00000000e+00, 1.10000000e+01, 0.00000000e+00, 6.70000000e+01,\n",
       "       0.00000000e+00, 0.00000000e+00, 0.00000000e+00, 1.80000000e+01,\n",
       "       1.00000000e+00, 2.28813000e+02, 7.70000000e+01, 1.00000000e+00,\n",
       "       0.00000000e+00, 4.59500000e+01, 9.00000000e+00, 2.54263000e+02,\n",
       "       1.00000000e+00, 0.00000000e+00, 3.00000000e+00, 0.00000000e+00,\n",
       "       4.00000000e+00, 2.64300000e+03, 0.00000000e+00, 4.69000000e+02,\n",
       "       6.00000000e+00, 8.92000000e+02, 4.92000000e+02, 2.00786000e+02,\n",
       "       8.30000000e+01, 5.40000000e+01, 3.92681200e+03, 7.00000000e+00,\n",
       "       0.00000000e+00, 5.80000000e+01, 0.00000000e+00, 1.00000000e+00,\n",
       "       2.09000000e+02, 0.00000000e+00, 7.00000000e+00, 2.00000000e+00,\n",
       "       8.70000000e+01, 0.00000000e+00, 4.26952000e+02, 3.31000000e+02,\n",
       "       2.00000000e+00, 6.00000000e+00, 1.38552000e+02, 5.70690000e+01,\n",
       "       1.27275500e+03, 1.00000000e+00, 0.00000000e+00, 2.00000000e+00,\n",
       "       0.00000000e+00, 2.00000000e+00, 2.48100000e+03, 0.00000000e+00,\n",
       "       4.42077000e+02, 1.10000000e+01, 9.74000000e+02, 8.08000000e+02,\n",
       "       1.15189000e+02, 1.01000000e+02, 1.51977000e+02, 3.34900000e+03,\n",
       "       2.90000000e+01, 4.00000000e+00, 2.10000000e+01, 2.60000000e+01,\n",
       "       1.00000000e+00, 2.34000000e+02, 1.50000000e+01, 0.00000000e+00,\n",
       "       1.00000000e+00, 7.00000000e+01, 5.00000000e+00, 1.95077000e+02,\n",
       "       2.94000000e+02, 9.00000000e+00, 3.00000000e+00, 2.56829000e+02,\n",
       "       1.03247000e+02, 2.77577100e+03, 0.00000000e+00, 2.96700000e+01,\n",
       "       4.00000000e+00, 0.00000000e+00, 0.00000000e+00, 1.86700000e+03,\n",
       "       0.00000000e+00, 4.77963000e+02, 1.00000000e+01, 9.05000000e+02,\n",
       "       7.08000000e+02, 1.01627000e+02, 6.00000000e+01, 1.50641000e+02,\n",
       "       3.07800000e+03, 1.90000000e+01, 2.00000000e+00, 1.50000000e+01,\n",
       "       9.00000000e+00, 0.00000000e+00, 2.45000000e+02, 2.20000000e+01,\n",
       "       1.10000000e+01, 1.00000000e+00, 6.50000000e+01, 4.00000000e+00,\n",
       "       3.56909000e+02, 3.48000000e+02, 3.00000000e+00, 2.00000000e+00,\n",
       "       1.28621000e+02, 8.87720000e+01, 2.03076200e+03, 0.00000000e+00,\n",
       "       1.82040000e+01, 7.00000000e+00, 1.00000000e+00, 3.00000000e+00,\n",
       "       2.95100000e+03, 0.00000000e+00, 6.55000000e+02, 2.00000000e+01,\n",
       "       1.19400000e+03, 5.11000000e+02, 1.57656000e+02, 2.66000000e+02,\n",
       "       9.76390000e+01, 3.67415000e+03, 1.80000000e+01, 1.00000000e+00,\n",
       "       2.20000000e+01, 1.40000000e+01, 0.00000000e+00, 2.97000000e+02,\n",
       "       9.00000000e+00, 0.00000000e+00, 2.00000000e+00, 8.30000000e+01,\n",
       "       1.00000000e+00, 2.18750990e+02, 2.58000000e+02, 2.00000000e+00,\n",
       "       2.00000000e+00, 2.05541000e+02, 7.03850000e+01, 1.65743200e+03,\n",
       "       1.00000000e+00, 1.06119995e+01, 9.00000000e+00, 0.00000000e+00,\n",
       "       2.00000000e+00, 2.19100000e+03, 0.00000000e+00, 4.25449000e+02,\n",
       "       7.00000000e+00, 9.39000000e+02, 7.16000000e+02, 1.93776000e+02,\n",
       "       1.33000000e+02, 1.43356000e+02, 2.97700000e+03, 1.50000000e+01,\n",
       "       0.00000000e+00, 1.60000000e+01, 1.80000000e+01, 1.00000000e+00,\n",
       "       2.18000000e+02, 3.20000000e+01, 4.00000000e+00, 1.00000000e+00,\n",
       "       5.10000000e+01, 1.00000000e+00, 3.15396000e+02, 2.36000000e+02,\n",
       "       1.00000000e+00, 7.00000000e+00, 3.88726000e+02, 9.98280000e+01,\n",
       "       2.33990600e+03, 0.00000000e+00, 2.54170000e+01, 5.00000000e+00,\n",
       "       0.00000000e+00, 0.00000000e+00, 2.56100000e+03, 0.00000000e+00,\n",
       "       3.02000000e+02, 4.00000000e+00, 1.32500000e+03, 3.88000000e+02,\n",
       "       1.81000000e+02, 8.90000000e+01, 9.09330000e+01, 4.04500000e+03,\n",
       "       1.20000000e+01, 1.00000000e+00, 2.00000000e+01, 9.00000000e+00,\n",
       "       0.00000000e+00, 2.90000000e+02, 0.00000000e+00, 1.00000000e+00,\n",
       "       0.00000000e+00, 1.20000000e+01, 1.00000000e+00, 5.98030000e+01,\n",
       "       3.12000000e+02, 5.00000000e+00, 6.00000000e+00, 1.04162000e+02,\n",
       "       5.30000000e+01, 7.22333000e+02, 0.00000000e+00, 3.00000000e+00,\n",
       "       5.00000000e+00, 0.00000000e+00, 1.00000000e+00, 1.43600000e+03,\n",
       "       0.00000000e+00, 3.46863000e+02, 1.00000000e+01, 6.59000000e+02,\n",
       "       5.22000000e+02, 1.43368000e+02, 8.00000000e+01, 1.51325000e+02,\n",
       "       2.22900000e+03, 9.00000000e+00, 2.00000000e+00, 6.00000000e+00,\n",
       "       2.10000000e+01, 0.00000000e+00, 1.32000000e+02, 6.00000000e+00,\n",
       "       5.00000000e+00, 3.00000000e+00, 8.90000000e+01, 4.00000000e+00,\n",
       "       1.57430010e+02, 2.39000000e+02, 8.00000000e+00, 1.00000000e+00,\n",
       "       1.20466000e+02, 5.60190000e+01, 1.56784300e+03, 0.00000000e+00,\n",
       "       5.00000000e+00, 4.00000000e+00, 0.00000000e+00, 6.00000000e+00,\n",
       "       1.85700000e+03, 0.00000000e+00, 4.63002000e+02, 2.00000000e+00,\n",
       "       6.41000000e+02, 7.05000000e+02, 1.04933000e+02, 8.60000000e+01,\n",
       "       1.11979004e+02, 2.24300000e+03, 2.20000000e+01, 0.00000000e+00,\n",
       "       9.00000000e+00, 2.10000000e+01, 1.00000000e+00, 1.58000000e+02,\n",
       "       9.00000000e+00, 2.10000000e+01, 1.00000000e+00, 5.80000000e+01,\n",
       "       1.00000000e+00, 1.59795000e+02, 2.20000000e+02, 3.00000000e+00,\n",
       "       1.00000000e+00, 1.78191000e+02, 9.07780000e+01, 2.45845600e+03,\n",
       "       1.00000000e+00, 5.47200000e+00, 5.00000000e+00, 0.00000000e+00,\n",
       "       2.00000000e+00, 3.43600000e+03, 0.00000000e+00, 2.95000000e+02,\n",
       "       8.00000000e+00, 1.16400000e+03, 2.71000000e+02, 2.51000000e+02,\n",
       "       1.36000000e+02, 4.90000000e+01, 3.34800000e+03, 2.00000000e+00,\n",
       "       1.00000000e+00, 1.60000000e+01, 1.30000000e+01, 0.00000000e+00,\n",
       "       2.29000000e+02, 0.00000000e+00, 0.00000000e+00, 2.00000000e+00,\n",
       "       2.20000000e+01, 1.00000000e+00, 1.69771000e+02, 2.69000000e+02,\n",
       "       0.00000000e+00, 5.00000000e+00, 2.10722000e+02, 8.00000000e+01,\n",
       "       6.73885000e+02, 0.00000000e+00, 0.00000000e+00, 1.50000000e+01,\n",
       "       0.00000000e+00, 8.00000000e+00, 7.00500000e+03, 0.00000000e+00,\n",
       "       1.01651300e+03, 3.60000000e+01, 2.17200000e+03, 2.37100000e+03,\n",
       "       3.52400000e+02, 4.31000000e+02, 5.25295000e+02, 7.59400000e+03,\n",
       "       4.70000000e+01, 5.00000000e+00, 1.42000000e+02, 7.00000000e+01,\n",
       "       3.00000000e+00, 4.59000000e+02, 1.90000000e+01, 3.00000000e+00,\n",
       "       2.80000000e+01, 2.26000000e+02, 7.00000000e+00, 7.59851000e+02,\n",
       "       4.58000000e+02, 3.20000000e+01, 4.00000000e+01, 1.10719900e+03,\n",
       "       4.56322000e+02, 8.83415000e+03, 1.30000000e+01, 9.59860000e+01,\n",
       "       6.00000000e+00, 0.00000000e+00, 1.20000000e+01, 6.77100000e+03,\n",
       "       0.00000000e+00, 8.37780000e+02, 3.30000000e+01, 2.27100000e+03,\n",
       "       1.80000000e+03, 4.45720000e+02, 2.28000000e+02, 4.05855000e+02,\n",
       "       7.69400000e+03, 3.40000000e+01, 1.00000000e+00, 8.30000000e+01,\n",
       "       9.70000000e+01, 1.00000000e+00, 5.10000000e+02, 4.00000000e+00])"
      ]
     },
     "execution_count": 15,
     "metadata": {},
     "output_type": "execute_result"
    }
   ],
   "source": [
    "sales_array = np.array(retail_df['sales'])\n",
    "\n",
    "sales_array"
   ]
  },
  {
   "cell_type": "code",
   "execution_count": 18,
   "metadata": {},
   "outputs": [
    {
     "data": {
      "text/plain": [
       "array([1662.394,  447.064, 2423.944,  962.866, 1236.404,  298.441,\n",
       "       1077.44 , 3404.531,  962.96 ,  279.505, 1852.786, 1089.319,\n",
       "        726.516, 7860.031,  446.038, 1155.385,  120.202,  862.092,\n",
       "        473.952,  254.263, 1272.755, 2775.771, 2030.762, 1657.432,\n",
       "       2339.906,  722.333, 1567.843, 2458.456,  673.885, 8834.15 ])"
      ]
     },
     "execution_count": 18,
     "metadata": {},
     "output_type": "execute_result"
    }
   ],
   "source": [
    "produce_array = np.array(sales_array[family_array == 'PRODUCE'])\n",
    "\n",
    "produce_array"
   ]
  },
  {
   "cell_type": "code",
   "execution_count": 19,
   "metadata": {},
   "outputs": [
    {
     "data": {
      "text/plain": [
       "array([0.24742606, 0.09299006, 0.61176337, 0.06066207, 0.66103343,\n",
       "       0.75515778, 0.1108689 , 0.04305584, 0.41441747, 0.98862926,\n",
       "       0.96919869, 0.25697153, 0.55876211, 0.24234798, 0.32202029,\n",
       "       0.89135975, 0.94611366, 0.72253931, 0.92847437, 0.99608701,\n",
       "       0.2494223 , 0.06229007, 0.94479027, 0.65028587, 0.32167568,\n",
       "       0.08336384, 0.21924361, 0.08417791, 0.05213927, 0.20525022])"
      ]
     },
     "execution_count": 19,
     "metadata": {},
     "output_type": "execute_result"
    }
   ],
   "source": [
    "# random\n",
    "\n",
    "rng = np.random.default_rng(2022)\n",
    "\n",
    "random_array = rng.random(produce_array.size)\n",
    "\n",
    "random_array"
   ]
  },
  {
   "cell_type": "code",
   "execution_count": 26,
   "metadata": {},
   "outputs": [
    {
     "data": {
      "text/plain": [
       "array([1662.394,  447.064,  962.866, 1077.44 , 3404.531,  962.96 ,\n",
       "       1089.319, 7860.031,  446.038, 1272.755, 2775.771, 2339.906,\n",
       "        722.333, 1567.843, 2458.456,  673.885, 8834.15 ])"
      ]
     },
     "execution_count": 26,
     "metadata": {},
     "output_type": "execute_result"
    }
   ],
   "source": [
    "sampled_array = produce_array[random_array < .5]\n",
    "\n",
    "sampled_array"
   ]
  },
  {
   "cell_type": "code",
   "execution_count": 27,
   "metadata": {},
   "outputs": [
    {
     "data": {
      "text/plain": [
       "np.float64(2268.102470588235)"
      ]
     },
     "execution_count": 27,
     "metadata": {},
     "output_type": "execute_result"
    }
   ],
   "source": [
    "# finding the mean\n",
    "mean = np.mean(sampled_array)\n",
    "\n",
    "mean \n"
   ]
  },
  {
   "cell_type": "code",
   "execution_count": 28,
   "metadata": {},
   "outputs": [
    {
     "data": {
      "text/plain": [
       "np.float64(1272.755)"
      ]
     },
     "execution_count": 28,
     "metadata": {},
     "output_type": "execute_result"
    }
   ],
   "source": [
    "median = np.median(sampled_array)\n",
    "\n",
    "median"
   ]
  },
  {
   "cell_type": "code",
   "execution_count": 30,
   "metadata": {},
   "outputs": [
    {
     "data": {
      "text/plain": [
       "array(['above_median', 'below_both', 'below_both', 'below_both',\n",
       "       'above_both', 'below_both', 'below_both', 'above_both',\n",
       "       'below_both', 'above_median', 'above_both', 'above_both',\n",
       "       'below_both', 'above_median', 'above_both', 'below_both',\n",
       "       'above_both'], dtype='<U12')"
      ]
     },
     "execution_count": 30,
     "metadata": {},
     "output_type": "execute_result"
    }
   ],
   "source": [
    "margin = np.where( \n",
    "    sampled_array < median , \"below_both\" , \n",
    "    np.where(sampled_array > mean , \"above_both\" , \"above_median\")\n",
    ")\n",
    "\n",
    "margin"
   ]
  }
 ],
 "metadata": {
  "kernelspec": {
   "display_name": "Python 3",
   "language": "python",
   "name": "python3"
  },
  "language_info": {
   "codemirror_mode": {
    "name": "ipython",
    "version": 3
   },
   "file_extension": ".py",
   "mimetype": "text/x-python",
   "name": "python",
   "nbconvert_exporter": "python",
   "pygments_lexer": "ipython3",
   "version": "3.12.3"
  }
 },
 "nbformat": 4,
 "nbformat_minor": 2
}
