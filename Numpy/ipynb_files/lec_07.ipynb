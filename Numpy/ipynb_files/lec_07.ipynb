{
 "cells": [
  {
   "cell_type": "markdown",
   "metadata": {},
   "source": [
    "# Vectorization\n",
    "\n",
    "Vectorization is the process of pushing array operations into optimized C code , which is easier and more efficient than writing for loops."
   ]
  },
  {
   "cell_type": "markdown",
   "metadata": {},
   "source": [
    "# Brodcasting \n",
    "Brodcasting lets you perform vectorized operations with arrays of different sizes where NumPy expand the smaller array to 'fit' the larger one\n",
    "- Single values (scalars) can bbe brodcast into arrays of any dimension\n",
    "- Dimensions with a length greater than one must be the same size"
   ]
  }
 ],
 "metadata": {
  "language_info": {
   "name": "python"
  }
 },
 "nbformat": 4,
 "nbformat_minor": 2
}
