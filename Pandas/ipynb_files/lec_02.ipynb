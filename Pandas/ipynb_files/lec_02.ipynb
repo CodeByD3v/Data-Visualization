{
 "cells": [
  {
   "cell_type": "markdown",
   "metadata": {},
   "source": [
    "# The ILOC Method\n",
    "\n",
    "The .iloc[] method is prefered way to access values by their positional index\n",
    "- This method works even when Series have a custom , non-integer index\n",
    "- It is more efficient than slicing and is recommended by Panda's creators.\n",
    "\n",
    "``` df.loc[row label, column label] ```\n",
    "\n",
    "df.iloc is used to access values based on their integer-location (position) within a Series or DataFrame.\n",
    "It takes two arguments: \n",
    "- row position and column position.The row position can be a single integer (e.g., 0 for the first row) \n",
    "- a list of integers for multiple rows (e.g., [5, 9])\n",
    "- a slice for a range of rows (e.g., [0:11])."
   ]
  },
  {
   "cell_type": "code",
   "execution_count": 1,
   "metadata": {},
   "outputs": [],
   "source": [
    "import pandas as pd\n",
    "import numpy as np"
   ]
  },
  {
   "cell_type": "code",
   "execution_count": 5,
   "metadata": {},
   "outputs": [
    {
     "data": {
      "text/plain": [
       "a    10\n",
       "b    20\n",
       "c    30\n",
       "d    40\n",
       "e    50\n",
       "dtype: int64"
      ]
     },
     "execution_count": 5,
     "metadata": {},
     "output_type": "execute_result"
    }
   ],
   "source": [
    "my_series = pd.Series([10, 20, 30, 40, 50], index=['a', 'b', 'c', 'd', 'e'])\n",
    "\n",
    "my_series"
   ]
  },
  {
   "cell_type": "code",
   "execution_count": 6,
   "metadata": {},
   "outputs": [
    {
     "data": {
      "text/plain": [
       "np.int64(20)"
      ]
     },
     "execution_count": 6,
     "metadata": {},
     "output_type": "execute_result"
    }
   ],
   "source": [
    "my_series.iloc[1]"
   ]
  },
  {
   "cell_type": "code",
   "execution_count": 8,
   "metadata": {},
   "outputs": [
    {
     "data": {
      "text/plain": [
       "b    20\n",
       "c    30\n",
       "d    40\n",
       "dtype: int64"
      ]
     },
     "execution_count": 8,
     "metadata": {},
     "output_type": "execute_result"
    }
   ],
   "source": [
    "# we can pass a list of indices we want to extract\n",
    "my_series.iloc[[1,2,3]]"
   ]
  },
  {
   "cell_type": "markdown",
   "metadata": {},
   "source": [
    "# The LOC Method\n",
    "\n",
    "The .loc\n",
    "\n",
    "``` df.loc[row label, column label] ```\n",
    "\n",
    "df.loc:\n",
    "\n",
    "This is a label-based indexer used to select data by row and column labels (or boolean arrays).\n",
    "\n",
    "Series or DataFrame to access values from:\n",
    "\n",
    "This indicates that df refers to either a Pandas Series or a DataFrame object from which you want to retrieve data.\n",
    "\n",
    "The custom row index for the value(s) you want to access:\n",
    "\n",
    "This specifies that the first argument within the square brackets (row label) is used to select rows based on their custom labels.\n",
    "#### Examples of row label selection:\n",
    "- \"pizza\": Selects a single row with the label \"pizza\".\n",
    "- [\"mike\", \"ike\"]: Selects multiple rows with the labels \"mike\" and \"ike\".\n",
    "- [\"jan\":\"dec\"]: Selects a range of rows from \"jan\" to \"dec\" (inclusive).\n",
    "#### column label:\n",
    "The second argument within the square brackets is used to select columns based on their labels.\n"
   ]
  },
  {
   "cell_type": "code",
   "execution_count": 9,
   "metadata": {},
   "outputs": [
    {
     "data": {
      "text/plain": [
       "a    10\n",
       "b    20\n",
       "c    30\n",
       "d    40\n",
       "e    50\n",
       "dtype: int64"
      ]
     },
     "execution_count": 9,
     "metadata": {},
     "output_type": "execute_result"
    }
   ],
   "source": [
    "my_series = pd.Series([10, 20, 30, 40, 50], index=['a', 'b', 'c', 'd', 'e'])\n",
    "\n",
    "my_series"
   ]
  },
  {
   "cell_type": "code",
   "execution_count": 10,
   "metadata": {},
   "outputs": [
    {
     "data": {
      "text/plain": [
       "a    10\n",
       "b    20\n",
       "c    30\n",
       "dtype: int64"
      ]
     },
     "execution_count": 10,
     "metadata": {},
     "output_type": "execute_result"
    }
   ],
   "source": [
    "my_series.loc['a':'c']"
   ]
  },
  {
   "cell_type": "code",
   "execution_count": 11,
   "metadata": {},
   "outputs": [],
   "source": [
    "my_series.index = [ 0 , 2, 3 , 100 , 5]\n"
   ]
  },
  {
   "cell_type": "code",
   "execution_count": 12,
   "metadata": {},
   "outputs": [
    {
     "data": {
      "text/plain": [
       "0      10\n",
       "2      20\n",
       "3      30\n",
       "100    40\n",
       "5      50\n",
       "dtype: int64"
      ]
     },
     "execution_count": 12,
     "metadata": {},
     "output_type": "execute_result"
    }
   ],
   "source": [
    "my_series"
   ]
  },
  {
   "cell_type": "markdown",
   "metadata": {},
   "source": [
    "By default, reset_index() will keep the old index as a column.\n",
    "\n",
    "But if you use drop=True, it tells Pandas to discard the old index completely."
   ]
  },
  {
   "cell_type": "code",
   "execution_count": 13,
   "metadata": {},
   "outputs": [
    {
     "data": {
      "text/plain": [
       "0    10\n",
       "1    20\n",
       "2    30\n",
       "3    40\n",
       "dtype: int64"
      ]
     },
     "execution_count": 13,
     "metadata": {},
     "output_type": "execute_result"
    }
   ],
   "source": [
    "my_series.reset_index(drop=True).loc[:3]"
   ]
  },
  {
   "cell_type": "markdown",
   "metadata": {},
   "source": [
    "### DUPLICATE INDEX VALUES\n",
    "It is possible to have duplicate index values in a Pandas Series or DataFrame\n",
    "- Accessing these indices by their label using .loc[] returns all corresponding rows."
   ]
  },
  {
   "cell_type": "code",
   "execution_count": 2,
   "metadata": {},
   "outputs": [
    {
     "data": {
      "text/plain": [
       "Day 0    10\n",
       "Day 0    20\n",
       "Day 0    30\n",
       "Day 2    40\n",
       "Day 2    50\n",
       "dtype: int64"
      ]
     },
     "execution_count": 2,
     "metadata": {},
     "output_type": "execute_result"
    }
   ],
   "source": [
    "my_series = pd.Series([10, 20, 30, 40, 50] , index=[\"Day 0\", \"Day 0\" , \"Day 0\" , \"Day 2\" , \"Day 2\"])\n",
    "\n",
    "my_series"
   ]
  },
  {
   "cell_type": "code",
   "execution_count": 3,
   "metadata": {},
   "outputs": [
    {
     "data": {
      "text/plain": [
       "Day 0    10\n",
       "Day 0    20\n",
       "Day 0    30\n",
       "dtype: int64"
      ]
     },
     "execution_count": 3,
     "metadata": {},
     "output_type": "execute_result"
    }
   ],
   "source": [
    "my_series[\"Day 0\"]"
   ]
  },
  {
   "cell_type": "markdown",
   "metadata": {},
   "source": [
    "We are reciving data of duplicate index ,  so the solution for this is to reset the index values."
   ]
  },
  {
   "cell_type": "code",
   "execution_count": 8,
   "metadata": {},
   "outputs": [
    {
     "data": {
      "text/plain": [
       "2    30\n",
       "3    40\n",
       "dtype: int64"
      ]
     },
     "execution_count": 8,
     "metadata": {},
     "output_type": "execute_result"
    }
   ],
   "source": [
    "my_series.reset_index(drop=True).iloc[2:4]"
   ]
  },
  {
   "cell_type": "code",
   "execution_count": 9,
   "metadata": {},
   "outputs": [
    {
     "data": {
      "text/plain": [
       "2    30\n",
       "3    40\n",
       "4    50\n",
       "dtype: int64"
      ]
     },
     "execution_count": 9,
     "metadata": {},
     "output_type": "execute_result"
    }
   ],
   "source": [
    "my_series.reset_index(drop=True).loc[2:4]"
   ]
  }
 ],
 "metadata": {
  "kernelspec": {
   "display_name": "Python 3",
   "language": "python",
   "name": "python3"
  },
  "language_info": {
   "codemirror_mode": {
    "name": "ipython",
    "version": 3
   },
   "file_extension": ".py",
   "mimetype": "text/x-python",
   "name": "python",
   "nbconvert_exporter": "python",
   "pygments_lexer": "ipython3",
   "version": "3.12.3"
  }
 },
 "nbformat": 4,
 "nbformat_minor": 2
}
