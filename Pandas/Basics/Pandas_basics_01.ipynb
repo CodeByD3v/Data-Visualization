{
 "cells": [
  {
   "cell_type": "code",
   "execution_count": null,
   "metadata": {},
   "outputs": [],
   "source": [
    "# creating series\n",
    "import pandas as pd\n",
    "\n",
    "series = pd.Series([1,2,3,4,5])\n",
    "print(series)"
   ]
  },
  {
   "cell_type": "code",
   "execution_count": null,
   "metadata": {},
   "outputs": [],
   "source": [
    "# creating dataframes\n",
    "import pandas as pd\n",
    "data = {\n",
    "    'A': [1,2,3],\n",
    "    'B': [4,5,6],\n",
    "    'C': [7,8,9]\n",
    "}\n",
    "df = pd.DataFrame(data)\n",
    "print(df)"
   ]
  },
  {
   "cell_type": "code",
   "execution_count": 14,
   "metadata": {},
   "outputs": [],
   "source": [
    "# reading files\n",
    "import pandas as pd \n",
    "\n",
    "df = pd.read_csv('Pizza.csv' , index_col='pizza_id')"
   ]
  },
  {
   "cell_type": "code",
   "execution_count": null,
   "metadata": {},
   "outputs": [],
   "source": [
    "# head gives the first 5 rows by default it 5\n",
    "df.head()"
   ]
  },
  {
   "cell_type": "code",
   "execution_count": null,
   "metadata": {},
   "outputs": [],
   "source": [
    "# tail gives the last 5 rows by default it is 5\n",
    "df.tail()"
   ]
  },
  {
   "cell_type": "code",
   "execution_count": null,
   "metadata": {},
   "outputs": [],
   "source": [
    "# info about the dataframe\n",
    "df.info()"
   ]
  },
  {
   "cell_type": "code",
   "execution_count": null,
   "metadata": {},
   "outputs": [],
   "source": [
    "# describe the dataframe\n",
    "# it include only numeric data\n",
    "df.describe()\n",
    "# describe the dataframe with all the data\n",
    "# it include all the columns even not numeric like string \n",
    "df.describe(include='all')"
   ]
  },
  {
   "cell_type": "code",
   "execution_count": null,
   "metadata": {},
   "outputs": [],
   "source": [
    "# dataframe columns\n",
    "df.columns"
   ]
  },
  {
   "cell_type": "code",
   "execution_count": null,
   "metadata": {},
   "outputs": [],
   "source": [
    "# dataframe index\n",
    "df.index\n"
   ]
  },
  {
   "cell_type": "code",
   "execution_count": null,
   "metadata": {},
   "outputs": [],
   "source": [
    "# dataframe shape\n",
    "df.shape\n",
    "# (rows, columns)\n"
   ]
  },
  {
   "cell_type": "code",
   "execution_count": null,
   "metadata": {},
   "outputs": [],
   "source": [
    "# dataframe size\n",
    "df.size\n",
    "# (rows * columns)\n",
    "\n"
   ]
  },
  {
   "cell_type": "code",
   "execution_count": null,
   "metadata": {},
   "outputs": [],
   "source": [
    "# dataframe dimensions\n",
    "df.ndim"
   ]
  },
  {
   "cell_type": "code",
   "execution_count": null,
   "metadata": {},
   "outputs": [],
   "source": [
    "# 2\n",
    "\n",
    "# dataframe dtypes\n",
    "df.dtypes\n",
    "# all the data types of the dataframe\n",
    "\n"
   ]
  },
  {
   "cell_type": "code",
   "execution_count": null,
   "metadata": {},
   "outputs": [],
   "source": [
    "# accessing data\n",
    "df['pizza_id']"
   ]
  },
  {
   "cell_type": "code",
   "execution_count": null,
   "metadata": {},
   "outputs": [],
   "source": [
    "# Checks which values in that column are null (NaN).\n",
    "# count() , sum() , any() , all()\n",
    "df['total_price'].isnull().count()"
   ]
  },
  {
   "cell_type": "code",
   "execution_count": null,
   "metadata": {},
   "outputs": [],
   "source": [
    "# aggregate functions\n",
    "# min , max , sum , mean , median , mode , std , var , count , any , all\n",
    "print( \"minimum value\", df['total_price'].min())\n",
    "print( \"maximum value\", df['total_price'].max())\n",
    "print(\"sum of the total price\" , df[\"total_price\"].sum())\n",
    "print(\"mean of the total price\" , df[\"total_price\"].mean())\n",
    "print(\"median of the total price\" , df[\"total_price\"].median())\n",
    "print(\"mode of the total price\" , df[\"total_price\"].mode())\n",
    "print(\"standard deviation of the total price\" , df[\"total_price\"].std())\n",
    "print(\"variance of the total price\" , df[\"total_price\"].var())\n",
    "print(\"count of the total price\" , df[\"total_price\"].count())"
   ]
  },
  {
   "cell_type": "markdown",
   "metadata": {},
   "source": [
    " Understanding .loc and .iloc in Pandas:\n",
    " .loc — Label-based indexing:\n",
    "The .loc method is used when you want to select data based on the labels of rows and columns. That means it uses the index name (not position) and column names.\n",
    "\n",
    "Syntax: df.loc[row_label, column_label]\n",
    "\n",
    "Example: df.loc[2, 'price'] → Returns the value at the row with index label 2 and the column named 'price'.\n",
    "\n",
    "Returns: A single value if both row and column are specified.\n",
    "\n",
    "This is ideal when your DataFrame has meaningful index labels (like order IDs, dates, or named identifiers).\n",
    "\n",
    ".iloc — Position-based indexing:\n",
    "The .iloc method is used when you want to select data by its numeric position — like working with a list. It doesn’t care about what the row or column is called, only where it’s located.\n",
    "\n",
    "Syntax: df.iloc[row_position, column_position]\n",
    "\n",
    "Example: df.iloc[2, 3] → Returns the value from the 3rd row and 4th column of the DataFrame (counting from 0).\n",
    "\n",
    "Returns: A single value if both row and column positions are passed.\n",
    "\n",
    "This is useful when you’re working with DataFrames where labels are not intuitive or when you simply care about row/column order.\n"
   ]
  },
  {
   "cell_type": "code",
   "execution_count": 15,
   "metadata": {},
   "outputs": [
    {
     "data": {
      "text/plain": [
       "'classic_dlx_m'"
      ]
     },
     "execution_count": 15,
     "metadata": {},
     "output_type": "execute_result"
    }
   ],
   "source": [
    "df.loc[2,'pizza_name_id']"
   ]
  },
  {
   "cell_type": "code",
   "execution_count": 16,
   "metadata": {},
   "outputs": [
    {
     "data": {
      "text/plain": [
       "'classic_dlx_m'"
      ]
     },
     "execution_count": 16,
     "metadata": {},
     "output_type": "execute_result"
    }
   ],
   "source": [
    "df.iloc[1,1]"
   ]
  }
 ],
 "metadata": {
  "kernelspec": {
   "display_name": "Python 3",
   "language": "python",
   "name": "python3"
  },
  "language_info": {
   "codemirror_mode": {
    "name": "ipython",
    "version": 3
   },
   "file_extension": ".py",
   "mimetype": "text/x-python",
   "name": "python",
   "nbconvert_exporter": "python",
   "pygments_lexer": "ipython3",
   "version": "3.12.3"
  }
 },
 "nbformat": 4,
 "nbformat_minor": 2
}
