{
 "cells": [
  {
   "cell_type": "code",
   "execution_count": null,
   "metadata": {},
   "outputs": [],
   "source": [
    "# creating series\n",
    "import pandas as pd\n",
    "\n",
    "series = pd.Series([1,2,3,4,5])\n",
    "print(series)"
   ]
  },
  {
   "cell_type": "code",
   "execution_count": null,
   "metadata": {},
   "outputs": [],
   "source": [
    "# creating dataframes\n",
    "import pandas as pd\n",
    "data = {\n",
    "    'A': [1,2,3],\n",
    "    'B': [4,5,6],\n",
    "    'C': [7,8,9]\n",
    "}\n",
    "df = pd.DataFrame(data)\n",
    "print(df)"
   ]
  },
  {
   "cell_type": "code",
   "execution_count": null,
   "metadata": {},
   "outputs": [],
   "source": [
    "# reading files\n",
    "import pandas as pd \n",
    "\n",
    "df = pd.read_csv('pizza.csv')\n",
    "print(df.head())"
   ]
  },
  {
   "cell_type": "code",
   "execution_count": null,
   "metadata": {},
   "outputs": [],
   "source": [
    "# info about the dataframe\n",
    "df.info()"
   ]
  },
  {
   "cell_type": "code",
   "execution_count": null,
   "metadata": {},
   "outputs": [],
   "source": [
    "# describe the dataframe\n",
    "# it include only numeric data\n",
    "df.describe()\n",
    "# describe the dataframe with all the data\n",
    "# it include all the columns even not numeric like string \n",
    "df.describe(include='all')"
   ]
  },
  {
   "cell_type": "code",
   "execution_count": null,
   "metadata": {},
   "outputs": [],
   "source": [
    "# dataframe columns\n",
    "df.columns"
   ]
  },
  {
   "cell_type": "code",
   "execution_count": null,
   "metadata": {},
   "outputs": [],
   "source": [
    "# dataframe index\n",
    "df.index\n"
   ]
  },
  {
   "cell_type": "code",
   "execution_count": null,
   "metadata": {},
   "outputs": [],
   "source": [
    "# dataframe shape\n",
    "df.shape\n",
    "# (rows, columns)\n"
   ]
  },
  {
   "cell_type": "code",
   "execution_count": null,
   "metadata": {},
   "outputs": [],
   "source": [
    "# dataframe size\n",
    "df.size\n",
    "# (rows * columns)\n",
    "\n"
   ]
  },
  {
   "cell_type": "code",
   "execution_count": null,
   "metadata": {},
   "outputs": [],
   "source": [
    "# dataframe dimensions\n",
    "df.ndim"
   ]
  },
  {
   "cell_type": "code",
   "execution_count": null,
   "metadata": {},
   "outputs": [],
   "source": [
    "# 2\n",
    "\n",
    "# dataframe dtypes\n",
    "df.dtypes\n",
    "# all the data types of the dataframe\n",
    "\n"
   ]
  },
  {
   "cell_type": "code",
   "execution_count": null,
   "metadata": {},
   "outputs": [],
   "source": [
    "# accessing data\n",
    "df['pizza_id']"
   ]
  },
  {
   "cell_type": "code",
   "execution_count": null,
   "metadata": {},
   "outputs": [],
   "source": [
    "# iloc is used to access data by index\n",
    "df.iloc[0:df.shape[0]]"
   ]
  },
  {
   "cell_type": "code",
   "execution_count": null,
   "metadata": {},
   "outputs": [],
   "source": [
    "# Checks which values in that column are null (NaN).\n",
    "# count() , sum() , any() , all()\n",
    "df['total_price'].isnull().count()"
   ]
  },
  {
   "cell_type": "code",
   "execution_count": 30,
   "metadata": {},
   "outputs": [
    {
     "name": "stdout",
     "output_type": "stream",
     "text": [
      "minimum value 9.75\n",
      "maximum value 83.0\n",
      "sum of the total price 817860.05\n",
      "mean of the total price 16.821473673385437\n",
      "median of the total price 16.5\n",
      "mode of the total price 0    20.75\n",
      "Name: total_price, dtype: float64\n",
      "standard deviation of the total price 4.4373975811810835\n",
      "variance of the total price 19.69049729347173\n",
      "count of the total price 48620\n"
     ]
    }
   ],
   "source": [
    "# aggregate functions\n",
    "# min , max , sum , mean , median , mode , std , var , count , any , all\n",
    "print( \"minimum value\", df['total_price'].min())\n",
    "print( \"maximum value\", df['total_price'].max())\n",
    "print(\"sum of the total price\" , df[\"total_price\"].sum())\n",
    "print(\"mean of the total price\" , df[\"total_price\"].mean())\n",
    "print(\"median of the total price\" , df[\"total_price\"].median())\n",
    "print(\"mode of the total price\" , df[\"total_price\"].mode())\n",
    "print(\"standard deviation of the total price\" , df[\"total_price\"].std())\n",
    "print(\"variance of the total price\" , df[\"total_price\"].var())\n",
    "print(\"count of the total price\" , df[\"total_price\"].count())\n"
   ]
  }
 ],
 "metadata": {
  "kernelspec": {
   "display_name": "Python 3",
   "language": "python",
   "name": "python3"
  },
  "language_info": {
   "codemirror_mode": {
    "name": "ipython",
    "version": 3
   },
   "file_extension": ".py",
   "mimetype": "text/x-python",
   "name": "python",
   "nbconvert_exporter": "python",
   "pygments_lexer": "ipython3",
   "version": "3.12.3"
  }
 },
 "nbformat": 4,
 "nbformat_minor": 2
}
